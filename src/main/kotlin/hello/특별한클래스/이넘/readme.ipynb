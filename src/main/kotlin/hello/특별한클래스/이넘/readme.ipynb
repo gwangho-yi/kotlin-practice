{
 "cells": [
  {
   "metadata": {},
   "cell_type": "raw",
   "source": [
    "## 이넘 (enum)\n",
    "- 자바와 성능상의 차이는 아래와 같다\n",
    "    - when : 모든 이넘 상수를 다룬 경우에는 else 생략 가능하다.\n",
    "    - 상속 : 다른 클래스 상속 불가능 하지만, 인터페이스는 구현 가능하다.\n",
    "    - 메서드 구현 : 상수 프로퍼티에 메서드 구현 가능하다\n",
    "    - 확장 함수\n",
    "    - 컴패니언 객체\n",
    "- enum 관련 함수\n",
    "    - `enumValueOf<>()` : 문자열을 통해 특정 enum 상수를 찾아 반환\n",
    "    - `enumValues<>()`  : enum의 모든 상수를 배열로 반환\n",
    "    - `enumEntries<>()` : enum의 모든 상수를 불변 리스트로 반환. `enumValues` 보다 성능 우수\n"
   ]
  },
  {
   "metadata": {
    "ExecuteTime": {
     "end_time": "2025-07-10T09:06:35.503235Z",
     "start_time": "2025-07-10T09:06:35.286319Z"
    }
   },
   "cell_type": "code",
   "source": [
    "import kotlin.enums.enumEntries\n",
    "\n",
    "/**\n",
    " * when 모은 상수 사용 시 else 생략 가능\n",
    " * */\n",
    "enum class Direction {\n",
    "    NORTH, SOUTH, WEST, EAST;\n",
    "\n",
    "    fun rotate(\n",
    "        direction: Direction\n",
    "    ) = when (direction) {\n",
    "        NORTH -> SOUTH\n",
    "        SOUTH -> WEST\n",
    "        WEST -> NORTH\n",
    "        EAST -> SOUTH\n",
    "    }\n",
    "}\n",
    "\n",
    "Direction.EAST.rotate(Direction.NORTH)\n",
    "\n",
    "/**\n",
    "* 메서드 구현\n",
    "* */\n",
    "enum class Calculate {\n",
    "    PLUS {\n",
    "        override fun invoke(a: Int, b: Int): Int = a + b\n",
    "    },\n",
    "    MINUS {\n",
    "        override fun invoke(a: Int, b: Int): Int = a - b\n",
    "    };\n",
    "\n",
    "    abstract fun invoke(a: Int, b: Int): Int\n",
    "}\n",
    "\n",
    "/**\n",
    " * 확장 함수\n",
    " * */\n",
    "enum class Color(val r: Int, val g: Int, val b: Int) {\n",
    "    RED(255, 0, 0),\n",
    "    GREEN(0, 255, 0),\n",
    "    BLUE(0, 0, 255);\n",
    "}\n",
    "\n",
    "fun Color.isWarm(): Boolean = when (this) {\n",
    "    Color.RED, Color.GREEN -> true\n",
    "    Color.BLUE -> false\n",
    "}\n",
    "\n"
   ],
   "outputs": [],
   "execution_count": 3
  },
  {
   "metadata": {
    "ExecuteTime": {
     "end_time": "2025-07-10T09:25:40.070815Z",
     "start_time": "2025-07-10T09:25:39.940123Z"
    }
   },
   "cell_type": "code",
   "source": [
    "import kotlin.enums.enumEntries\n",
    "\n",
    "/**\n",
    " * enumValues<Day>()\n",
    " * */\n",
    "enum class Day {\n",
    "    MONDAY, TUESDAY, WEDNESDAY, THURSDAY, FRIDAY, SATURDAY, SUNDAY\n",
    "}\n",
    "\n",
    "val alldays: Array<Day> = enumValues<Day>()\n",
    "println(alldays.contentToString())\n",
    "\n",
    "\n",
    "/**\n",
    " * enumValueOf<T>()\n",
    " * */\n",
    "val monday = enumValueOf<Day>(\"MONDAY\")\n",
    "println(monday)\n",
    "\n",
    "/**\n",
    " * enumEntries<Day>()\n",
    " * enumValues<T>()는 매번 새로운 배열을 생성\n",
    " * enumEntries<T>()는 캐시된 불변 리스트 반환 (더 효율적)\n",
    " * List 메서드 사용 (더 다양한 컬렉션 기능)\n",
    " * */\n",
    "val days: List<Day> = enumEntries<Day>()\n",
    "println(days)\n",
    "\n",
    "val somdays = enumEntries<Day>().filter { it.ordinal >= 2 }\n",
    "println(somdays)\n",
    "\n",
    "\n",
    "\n",
    "/**\n",
    " * entries\n",
    " * 컴파일 시점에 List로 만들어 준다.\n",
    " * */\n",
    "Day.entries.size\n",
    "Day.entries.get(1)\n",
    "Day.entries.forEach {  }\n"
   ],
   "outputs": [
    {
     "name": "stdout",
     "output_type": "stream",
     "text": [
      "[MONDAY, TUESDAY, WEDNESDAY, THURSDAY, FRIDAY, SATURDAY, SUNDAY]\n",
      "MONDAY\n",
      "[MONDAY, TUESDAY, WEDNESDAY, THURSDAY, FRIDAY, SATURDAY, SUNDAY]\n",
      "[WEDNESDAY, THURSDAY, FRIDAY, SATURDAY, SUNDAY]\n"
     ]
    }
   ],
   "execution_count": 14
  }
 ],
 "metadata": {
  "kernelspec": {
   "display_name": "Kotlin",
   "language": "kotlin",
   "name": "kotlin"
  },
  "language_info": {
   "name": "kotlin",
   "version": "2.2.20-dev-4982",
   "mimetype": "text/x-kotlin",
   "file_extension": ".kt",
   "pygments_lexer": "kotlin",
   "codemirror_mode": "text/x-kotlin",
   "nbconvert_exporter": ""
  }
 },
 "nbformat": 4,
 "nbformat_minor": 0
}
