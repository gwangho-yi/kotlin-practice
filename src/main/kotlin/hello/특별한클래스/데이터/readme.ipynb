{
 "cells": [
  {
   "metadata": {},
   "cell_type": "markdown",
   "source": [
    "## 데이터 클래스\n",
    "- 데이터를 담는 목적으로 만들어진 클래스\n",
    "- `abstract`, `open`, `inne`, `sealed`가 될 수 없다.\n"
   ]
  },
  {
   "metadata": {
    "ExecuteTime": {
     "end_time": "2025-07-10T11:57:23.405849Z",
     "start_time": "2025-07-10T11:57:23.268137Z"
    }
   },
   "cell_type": "code",
   "source": [
    "data class Person (\n",
    "    val firstName: String,\n",
    "    val familyName: String,\n",
    "    val age: Int\n",
    ")\n",
    "\n",
    "/**\n",
    "* toString()\n",
    "* */\n",
    "val person = Person(\"John\", \"Doe\", 25)\n",
    "println(person) // 자동으로 toString 생성\n",
    "\n",
    "\n",
    "/**\n",
    " * equals() hashcode()\n",
    " * */\n",
    "val person2 = Person(\"광호\", \"이\", 35)\n",
    "println(person == person2)\n",
    "\n",
    "/**\n",
    " * copy() - 일부 값만 변경하는게 가능하다.\n",
    " * */\n",
    "val person3 = person.copy(age = 31)\n",
    "\n",
    "/**\n",
    "* component() 구조 분해 선언\n",
    "* */\n",
    "val (firstName, familyName, age) = person3\n"
   ],
   "outputs": [
    {
     "name": "stdout",
     "output_type": "stream",
     "text": [
      "Person(firstName=John, familyName=Doe, age=25)\n",
      "false\n"
     ]
    }
   ],
   "execution_count": 2
  }
 ],
 "metadata": {
  "kernelspec": {
   "display_name": "Kotlin",
   "language": "kotlin",
   "name": "kotlin"
  },
  "language_info": {
   "name": "kotlin",
   "version": "2.2.20-dev-4982",
   "mimetype": "text/x-kotlin",
   "file_extension": ".kt",
   "pygments_lexer": "kotlin",
   "codemirror_mode": "text/x-kotlin",
   "nbconvert_exporter": ""
  }
 },
 "nbformat": 4,
 "nbformat_minor": 0
}
