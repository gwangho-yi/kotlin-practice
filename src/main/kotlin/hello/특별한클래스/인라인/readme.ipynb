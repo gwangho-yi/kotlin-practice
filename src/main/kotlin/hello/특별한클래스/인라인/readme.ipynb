{
 "cells": [
  {
   "metadata": {},
   "cell_type": "markdown",
   "source": [
    "## 인라인 클래스\n",
    "- 단일 값을 표현하는 클래스, 컴파일 시점에 해당 값으로 인라인화 된다.\n",
    "- 쉽게 말해 밸류 클래스다\n",
    "- 밸류 클래스이기 때문에 단일 프로퍼티만 허용한다."
   ]
  },
  {
   "metadata": {},
   "cell_type": "code",
   "outputs": [],
   "execution_count": null,
   "source": [
    "@JvmInline\n",
    "value class Username(val value: String)\n",
    "\n",
    "@JvmInline\n",
    "value class Password(val value: String)\n",
    "\n",
    "fun login(username: Username, password: Password) {\n",
    "    println(\"Login: $username, $password\")\n",
    "}\n",
    "\n",
    "// 런타임에는 다음과 같이 인라인 됨\n",
    "fun login(username: String, password: String) {\n",
    "    println(\"Login: $username, $password\")\n",
    "}"
   ]
  },
  {
   "metadata": {},
   "cell_type": "markdown",
   "source": "## 부호 없는 정수"
  },
  {
   "metadata": {},
   "cell_type": "code",
   "outputs": [],
   "execution_count": null,
   "source": [
    "// 일반 정수 (부호 있음)\n",
    "val byte: Byte = 127        // -128 ~ 127\n",
    "val short: Short = 32767    // -32,768 ~ 32,767\n",
    "val int: Int = 2147483647   // -2,147,483,648 ~ 2,147,483,647\n",
    "val long: Long = 9223372036854775807L // -9,223,372,036,854,775,808 ~ 9,223,372,036,854,775,807\n",
    "\n",
    "// 부호 없는 정수 (0부터 시작)\n",
    "val uByte: UByte = 255u        // 0 ~ 255\n",
    "val uShort: UShort = 65535u    // 0 ~ 65,535\n",
    "val uInt: UInt = 4294967295u   // 0 ~ 4,294,967,295\n",
    "val uLong: ULong = 18446744073709551615u // 0 ~ 18,446,744,073,709,551,615\n"
   ]
  }
 ],
 "metadata": {
  "kernelspec": {
   "display_name": "Kotlin",
   "language": "kotlin",
   "name": "kotlin"
  },
  "language_info": {
   "name": "kotlin",
   "version": "2.2.20-dev-4982",
   "mimetype": "text/x-kotlin",
   "file_extension": ".kt",
   "pygments_lexer": "kotlin",
   "codemirror_mode": "text/x-kotlin",
   "nbconvert_exporter": ""
  }
 },
 "nbformat": 4,
 "nbformat_minor": 0
}
