{
 "cells": [
  {
   "metadata": {},
   "cell_type": "markdown",
   "source": [
    "## 객체\n",
    "- 객체선언 object\n",
    "- 동반객체 companion object"
   ]
  },
  {
   "metadata": {},
   "cell_type": "markdown",
   "source": [
    "### 객체 선언\n",
    "- 싱글턴 패턴 : 어떤 클래스가 인스턴스가 오직 하나만 존재하게 보장하는 것.\n",
    "- 코틀린에서는 class 선언 대신에 object 객체선언 만으로 싱글턴 패턴 정의가 가능하다."
   ]
  },
  {
   "metadata": {
    "ExecuteTime": {
     "end_time": "2025-07-03T02:00:18.741052Z",
     "start_time": "2025-07-03T02:00:18.688150Z"
    }
   },
   "cell_type": "code",
   "source": [
    "object Application {\n",
    "\n",
    "    val name = \"My Application\"\n",
    "\n",
    "    override fun toString() = name\n",
    "\n",
    "    fun exit() {}\n",
    "\n",
    "}\n",
    "\n",
    "fun describe(app: Application) = app.name // 여기서 Application 은 타입\n",
    "\n",
    "println(Application) // \"My Application\"  -> 여기서 Application은 값,  toString 호출\n",
    "\n",
    "println(describe(Application)) // \"My Application\""
   ],
   "outputs": [
    {
     "name": "stdout",
     "output_type": "stream",
     "text": [
      "My Application\n",
      "My Application\n"
     ]
    }
   ],
   "execution_count": 11
  },
  {
   "metadata": {},
   "cell_type": "markdown",
   "source": [
    "### 동반 객체\n",
    "- 내부 객체를 사용하면 생성자를 사용하지 못하게 강제하고 하나의 생성 메서드만 실행하게 할 수 있다.\n",
    "- private constructor 로 막지 않으면 외부에서는 Application 자체로 생성이 가능하기 때문에 동반 객체의 메서드에만 접근 가능하게 만들 수 있다."
   ]
  },
  {
   "metadata": {
    "ExecuteTime": {
     "end_time": "2025-07-03T13:00:52.793986Z",
     "start_time": "2025-07-03T13:00:52.608528Z"
    }
   },
   "cell_type": "code",
   "source": [
    "class Application private constructor(val name: String) {\n",
    "    object Factory {\n",
    "        fun create(name: String): Application {\n",
    "            val name = name\n",
    "            return Application(name)\n",
    "        }\n",
    "    }\n",
    "}\n",
    "\n",
    "val app = Application.Factory.create(\"My Application\")\n",
    "println(app)\n",
    "\n",
    "// Application(\"sdfd\") // 직접생성은 허용되지 않는다."
   ],
   "outputs": [
    {
     "name": "stdout",
     "output_type": "stream",
     "text": [
      "Line_5_jupyter$Application@1008c927\n"
     ]
    }
   ],
   "execution_count": 2
  },
  {
   "metadata": {},
   "cell_type": "markdown",
   "source": [
    "- `Application.Factory.create` 는 사용하기 길다 -> companion 키워드를 붙이면 동반 객체로 생성 가능\n",
    "- 동반 객체는 하나의 클래스에서 둘 이상 생성 불가능하다."
   ]
  },
  {
   "metadata": {
    "ExecuteTime": {
     "end_time": "2025-07-03T13:25:48.891603Z",
     "start_time": "2025-07-03T13:25:48.829874Z"
    }
   },
   "cell_type": "code",
   "source": [
    "class Application private constructor(val name: String) {\n",
    "    companion object {\n",
    "        fun create(name: String): Application {\n",
    "            val name = name\n",
    "            return Application(name)\n",
    "        }\n",
    "    }\n",
    "}\n",
    "\n",
    "val app = Application.create(\"My Application\")\n",
    "println(app)"
   ],
   "outputs": [
    {
     "name": "stdout",
     "output_type": "stream",
     "text": [
      "Line_7_jupyter$Application@7fc2d102\n"
     ]
    }
   ],
   "execution_count": 4
  }
 ],
 "metadata": {
  "kernelspec": {
   "display_name": "Kotlin",
   "language": "kotlin",
   "name": "kotlin"
  },
  "language_info": {
   "name": "kotlin",
   "version": "2.2.20-dev-4982",
   "mimetype": "text/x-kotlin",
   "file_extension": ".kt",
   "pygments_lexer": "kotlin",
   "codemirror_mode": "text/x-kotlin",
   "nbconvert_exporter": ""
  }
 },
 "nbformat": 4,
 "nbformat_minor": 0
}
