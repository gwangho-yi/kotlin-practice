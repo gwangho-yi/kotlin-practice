{
 "cells": [
  {
   "metadata": {},
   "cell_type": "markdown",
   "source": [
    "## 객체\n",
    "- 싱글턴"
   ]
  },
  {
   "metadata": {},
   "cell_type": "markdown",
   "source": [
    "### 객체 선언\n",
    "- 싱글턴 패턴 : 어떤 클래스가 인스턴스가 오직 하나만 존재하게 보장하는 것.\n",
    "- 코틀린에서는 class 선언 대신에 object 객체선언 만으로 싱글턴 패턴 정의가 가능하다.\n",
    "-"
   ]
  },
  {
   "metadata": {
    "ExecuteTime": {
     "end_time": "2025-07-03T02:00:18.741052Z",
     "start_time": "2025-07-03T02:00:18.688150Z"
    }
   },
   "cell_type": "code",
   "source": [
    "object Application {\n",
    "\n",
    "    val name = \"My Application\"\n",
    "\n",
    "    override fun toString() = name\n",
    "\n",
    "    fun exit() {}\n",
    "\n",
    "}\n",
    "\n",
    "fun describe(app: Application) = app.name // 여기서 Application 은 타입\n",
    "\n",
    "println(Application) // \"My Application\"  -> 여기서 Application은 값,  toString 호출\n",
    "\n",
    "println(describe(Application)) // \"My Application\""
   ],
   "outputs": [
    {
     "name": "stdout",
     "output_type": "stream",
     "text": [
      "My Application\n",
      "My Application\n"
     ]
    }
   ],
   "execution_count": 11
  }
 ],
 "metadata": {
  "kernelspec": {
   "display_name": "Kotlin",
   "language": "kotlin",
   "name": "kotlin"
  },
  "language_info": {
   "name": "kotlin",
   "version": "2.2.20-dev-4982",
   "mimetype": "text/x-kotlin",
   "file_extension": ".kt",
   "pygments_lexer": "kotlin",
   "codemirror_mode": "text/x-kotlin",
   "nbconvert_exporter": ""
  }
 },
 "nbformat": 4,
 "nbformat_minor": 0
}
