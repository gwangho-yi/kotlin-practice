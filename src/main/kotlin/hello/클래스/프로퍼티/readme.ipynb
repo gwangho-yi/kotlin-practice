{
 "cells": [
  {
   "metadata": {},
   "cell_type": "markdown",
   "source": [
    "## 단순한 변수 이상인 프로퍼티\n",
    "\n",
    "\n",
    "\n"
   ]
  },
  {
   "metadata": {},
   "cell_type": "markdown",
   "source": [
    "### 최상위 프로퍼티\n",
    "- 클래스나 함수 외부, 파일의 최상위 레벨에 선언되는 프로퍼티\n",
    "- 전역 변수나 상수와 비슷한 역할을 한다."
   ]
  },
  {
   "metadata": {
    "ExecuteTime": {
     "end_time": "2025-07-03T01:45:56.201091Z",
     "start_time": "2025-07-03T01:45:56.079733Z"
    }
   },
   "cell_type": "code",
   "source": [
    "val APP_NAME = \"MyApp\"\n",
    "var debugMode = false\n",
    "val MAX_RETRY_COUNT = 3\n",
    "\n",
    "class MyClass {\n",
    "    // 이건 클래스 프로퍼티 (최상위 아님)\n",
    "    val name = \"test\"\n",
    "}\n"
   ],
   "outputs": [],
   "execution_count": 1
  },
  {
   "metadata": {},
   "cell_type": "markdown",
   "source": [
    "### 늦은 초기화\n",
    "- 프로퍼티 선언 시점이 아닌, 나중에 값을 초기화 하는 것.\n",
    "- `lateinit` : 변경 가능한 프로퍼티용\n",
    "    - var + non-null 타입만 가능하다\n",
    "    - 원시 타입, val, nullable 불가\n",
    "    - 값을 미리 초기화 할 수 없는 상황에서 사용한다. ex) 의존성 주입\n",
    "\n",
    "\n",
    "- `lazy` : 읽기 전용 프로퍼티용\n",
    "    - 프로그램 시작 시점이 아닌, 코드 실행 시점에 로딩 가능하다."
   ]
  },
  {
   "metadata": {
    "ExecuteTime": {
     "end_time": "2025-07-03T01:45:57.869178Z",
     "start_time": "2025-07-03T01:45:57.715843Z"
    }
   },
   "cell_type": "code",
   "source": [
    "\n",
    "lateinit var lateName: String\n",
    "\n",
    "fun initName() {\n",
    "    lateName = \"yigwangho\"\n",
    "}\n",
    "\n",
    "//initName()\n",
    "println(lateName) // UninitializedPropertyAccessException 발생\n",
    "\n",
    "\n",
    "class Service {\n",
    "    private var repository: Repository? = null  // nullable로 선언해야 함\n",
    "\n",
    "\n",
    "    fun setRepository(repo: Repository) {\n",
    "        repository = repo\n",
    "    }\n",
    "\n",
    "    fun getRepository(): Repository {\n",
    "\n",
    "        // 항상 null 체크를 해줘야한다.\n",
    "        return repository?: throw IllegalStateException(\"Repository not initialized\")\n",
    "    }\n",
    "}\n",
    "\n",
    "class Service2 {\n",
    "    private lateinit var repository: Repository // nullable 없이 사용 가능하다.\n",
    "\n",
    "    fun setRepository(repo: Repository) {\n",
    "        repository = repo\n",
    "    }\n",
    "\n",
    "    fun getRepository(): Repository {\n",
    "        return repository\n",
    "    }\n",
    "}\n",
    "\n",
    "\n",
    "class Repository {\n",
    "    fun init() {\n",
    "        println(\"repository init\")\n",
    "    }\n",
    "}\n"
   ],
   "outputs": [
    {
     "ename": "kotlin.UninitializedPropertyAccessException",
     "evalue": "lateinit property lateName has not been initialized",
     "output_type": "error",
     "traceback": [
      "kotlin.UninitializedPropertyAccessException: lateinit property lateName has not been initialized",
      "\tat Line_5_jupyter.getLateName(Line_5.jupyter.kts:2) at Cell In[2], line 2",
      "\tat Line_5_jupyter.<init>(Line_5.jupyter.kts:9) at Cell In[2], line 9",
      "\tat java.base/jdk.internal.reflect.NativeConstructorAccessorImpl.newInstance0(Native Method)",
      "\tat java.base/jdk.internal.reflect.NativeConstructorAccessorImpl.newInstance(NativeConstructorAccessorImpl.java:77)",
      "\tat java.base/jdk.internal.reflect.DelegatingConstructorAccessorImpl.newInstance(DelegatingConstructorAccessorImpl.java:45)",
      "\tat java.base/java.lang.reflect.Constructor.newInstanceWithCaller(Constructor.java:500)",
      "\tat java.base/java.lang.reflect.Constructor.newInstance(Constructor.java:481)",
      "\tat kotlin.script.experimental.jvm.BasicJvmScriptEvaluator.evalWithConfigAndOtherScriptsResults(BasicJvmScriptEvaluator.kt:122)",
      "\tat kotlin.script.experimental.jvm.BasicJvmScriptEvaluator.invoke$suspendImpl(BasicJvmScriptEvaluator.kt:48)",
      "\tat kotlin.script.experimental.jvm.BasicJvmScriptEvaluator.invoke(BasicJvmScriptEvaluator.kt)",
      "\tat kotlin.script.experimental.jvm.BasicJvmReplEvaluator.eval(BasicJvmReplEvaluator.kt:49)",
      "\tat org.jetbrains.kotlinx.jupyter.repl.impl.InternalEvaluatorImpl$eval$resultWithDiagnostics$1.invokeSuspend(InternalEvaluatorImpl.kt:138)",
      "\tat kotlin.coroutines.jvm.internal.BaseContinuationImpl.resumeWith(ContinuationImpl.kt:34)",
      "\tat kotlinx.coroutines.DispatchedTask.run(DispatchedTask.kt:100)",
      "\tat kotlinx.coroutines.EventLoopImplBase.processNextEvent(EventLoop.common.kt:263)",
      "\tat kotlinx.coroutines.BlockingCoroutine.joinBlocking(Builders.kt:95)",
      "\tat kotlinx.coroutines.BuildersKt__BuildersKt.runBlocking(Builders.kt:69)",
      "\tat kotlinx.coroutines.BuildersKt.runBlocking(Unknown Source)",
      "\tat kotlinx.coroutines.BuildersKt__BuildersKt.runBlocking$default(Builders.kt:47)",
      "\tat kotlinx.coroutines.BuildersKt.runBlocking$default(Unknown Source)",
      "\tat org.jetbrains.kotlinx.jupyter.repl.impl.InternalEvaluatorImpl.eval(InternalEvaluatorImpl.kt:138)",
      "\tat org.jetbrains.kotlinx.jupyter.repl.impl.CellExecutorImpl.execute_L4Nmkdk$lambda$9$lambda$1(CellExecutorImpl.kt:80)",
      "\tat org.jetbrains.kotlinx.jupyter.repl.impl.ReplForJupyterImpl.withHost(ReplForJupyterImpl.kt:794)",
      "\tat org.jetbrains.kotlinx.jupyter.repl.impl.CellExecutorImpl.execute-L4Nmkdk(CellExecutorImpl.kt:78)",
      "\tat org.jetbrains.kotlinx.jupyter.repl.execution.CellExecutor.execute-L4Nmkdk$default(CellExecutor.kt:14)",
      "\tat org.jetbrains.kotlinx.jupyter.repl.impl.ReplForJupyterImpl.evaluateUserCode-wNURfNM(ReplForJupyterImpl.kt:616)",
      "\tat org.jetbrains.kotlinx.jupyter.repl.impl.ReplForJupyterImpl.evalExImpl(ReplForJupyterImpl.kt:474)",
      "\tat org.jetbrains.kotlinx.jupyter.repl.impl.ReplForJupyterImpl.evalEx$lambda$20(ReplForJupyterImpl.kt:467)",
      "\tat org.jetbrains.kotlinx.jupyter.repl.impl.ReplForJupyterImpl.withEvalContext(ReplForJupyterImpl.kt:447)",
      "\tat org.jetbrains.kotlinx.jupyter.repl.impl.ReplForJupyterImpl.evalEx(ReplForJupyterImpl.kt:466)",
      "\tat org.jetbrains.kotlinx.jupyter.messaging.IdeCompatibleMessageRequestProcessor.processExecuteRequest$lambda$7$lambda$6$lambda$5(IdeCompatibleMessageRequestProcessor.kt:160)",
      "\tat org.jetbrains.kotlinx.jupyter.streams.BlockingSubstitutionEngine.withDataSubstitution(SubstitutionEngine.kt:70)",
      "\tat org.jetbrains.kotlinx.jupyter.streams.StreamSubstitutionManager.withSubstitutedStreams(StreamSubstitutionManager.kt:118)",
      "\tat org.jetbrains.kotlinx.jupyter.messaging.IdeCompatibleMessageRequestProcessor.withForkedIn(IdeCompatibleMessageRequestProcessor.kt:354)",
      "\tat org.jetbrains.kotlinx.jupyter.messaging.IdeCompatibleMessageRequestProcessor.evalWithIO$lambda$16$lambda$15(IdeCompatibleMessageRequestProcessor.kt:368)",
      "\tat org.jetbrains.kotlinx.jupyter.streams.BlockingSubstitutionEngine.withDataSubstitution(SubstitutionEngine.kt:70)",
      "\tat org.jetbrains.kotlinx.jupyter.streams.StreamSubstitutionManager.withSubstitutedStreams(StreamSubstitutionManager.kt:118)",
      "\tat org.jetbrains.kotlinx.jupyter.messaging.IdeCompatibleMessageRequestProcessor.withForkedErr(IdeCompatibleMessageRequestProcessor.kt:343)",
      "\tat org.jetbrains.kotlinx.jupyter.messaging.IdeCompatibleMessageRequestProcessor.evalWithIO$lambda$16(IdeCompatibleMessageRequestProcessor.kt:367)",
      "\tat org.jetbrains.kotlinx.jupyter.streams.BlockingSubstitutionEngine.withDataSubstitution(SubstitutionEngine.kt:70)",
      "\tat org.jetbrains.kotlinx.jupyter.streams.StreamSubstitutionManager.withSubstitutedStreams(StreamSubstitutionManager.kt:118)",
      "\tat org.jetbrains.kotlinx.jupyter.messaging.IdeCompatibleMessageRequestProcessor.withForkedOut(IdeCompatibleMessageRequestProcessor.kt:335)",
      "\tat org.jetbrains.kotlinx.jupyter.messaging.IdeCompatibleMessageRequestProcessor.evalWithIO(IdeCompatibleMessageRequestProcessor.kt:366)",
      "\tat org.jetbrains.kotlinx.jupyter.messaging.IdeCompatibleMessageRequestProcessor.processExecuteRequest$lambda$7$lambda$6(IdeCompatibleMessageRequestProcessor.kt:159)",
      "\tat org.jetbrains.kotlinx.jupyter.execution.JupyterExecutorImpl$Task.execute(JupyterExecutorImpl.kt:41)",
      "\tat org.jetbrains.kotlinx.jupyter.execution.JupyterExecutorImpl.executorThread$lambda$0(JupyterExecutorImpl.kt:83)",
      "\tat kotlin.concurrent.ThreadsKt$thread$thread$1.run(Thread.kt:30)",
      "",
      "kotlin.UninitializedPropertyAccessException: lateinit property lateName has not been initialized",
      "at Cell In[2], line 2"
     ]
    }
   ],
   "execution_count": 2
  },
  {
   "metadata": {},
   "cell_type": "code",
   "outputs": [],
   "execution_count": null,
   "source": [
    "val name: String = \"gwangho\" // 프로그램 시작 시 로딩\n",
    "\n",
    "val lazyName: String by lazy { // 실제 호출 되는 시점에 로딩\n",
    "    \"gwangho\"\n",
    "}"
   ]
  },
  {
   "metadata": {},
   "cell_type": "markdown",
   "source": [
    "### 커스텀 접근자\n",
    "- 프로퍼티 값을 읽거나 쓸 때 호출되는 함수\n",
    "- 쉽게 말해서 getter / setter\n",
    "- 아래 fullName은 메모리를 차지하지 않는다. 프로퍼티 형태인 함수이기 때문에 프로퍼티를 읽을 때 계산 된다."
   ]
  },
  {
   "metadata": {
    "ExecuteTime": {
     "end_time": "2025-07-03T01:46:02.360423Z",
     "start_time": "2025-07-03T01:46:02.220214Z"
    }
   },
   "cell_type": "code",
   "source": [
    "class Person(val firstName: String, val familyName: String) {\n",
    "    val fullName: String\n",
    "        get() = \"$firstName $familyName\"\n",
    "\n",
    "    var age: Int? = null\n",
    "        set(value) {\n",
    "            if (value != null && value <= 0) {\n",
    "                throw IllegalArgumentException(\"Age cannot be less than zero\")\n",
    "            }\n",
    "            field = value\n",
    "        }\n",
    "}\n",
    "\n",
    "\n",
    "val person = Person(\"gwangho\", \"yi\")\n",
    "person.age = 20\n",
    "println(person.age)\n",
    "println(person.fullName)\n"
   ],
   "outputs": [
    {
     "name": "stdout",
     "output_type": "stream",
     "text": [
      "20\n",
      "gwangho yi\n"
     ]
    }
   ],
   "execution_count": 3
  }
 ],
 "metadata": {
  "kernelspec": {
   "display_name": "Kotlin",
   "language": "kotlin",
   "name": "kotlin"
  },
  "language_info": {
   "name": "kotlin",
   "version": "2.2.20-dev-4982",
   "mimetype": "text/x-kotlin",
   "file_extension": ".kt",
   "pygments_lexer": "kotlin",
   "codemirror_mode": "text/x-kotlin",
   "nbconvert_exporter": ""
  }
 },
 "nbformat": 4,
 "nbformat_minor": 0
}
