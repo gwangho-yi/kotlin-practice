{
 "cells": [
  {
   "metadata": {},
   "cell_type": "markdown",
   "source": [
    "## 널 가능성\n",
    "- 자바 : 자바는 모든 참조 타입 변수에 null 값을 대입 가능. -> 하지만 런타임 실행 시 NPE 발생.\n",
    "- 코틀린 :  널 값이 될 수 있는 참조 타입과 null 값이 될 수 없는 참조 타입을 확실히 구분해야 함.\n",
    "\n",
    "### Nullable Type Operator (널 허용 타입 연산자) : ?\n",
    "- 코틀린에서는 optional 사용하지 않는다\n",
    "- String? 처럼 Type? 으로 nullable 표시한다.\n",
    "- Int?, Boolean? 원시 타입은 int, boolean이 아니라 Int, Boolean 레퍼 타입이 된다."
   ]
  },
  {
   "metadata": {
    "ExecuteTime": {
     "end_time": "2025-06-29T09:19:26.436211Z",
     "start_time": "2025-06-29T09:19:26.341639Z"
    }
   },
   "cell_type": "code",
   "source": [
    "fun main() {\n",
    "\n",
    "    println(isLetterString(\"abc\")) // 실행 가능\n",
    "//     println(isLetterString(null)) // 컴파일 오류 null 대입 불가\n",
    "\n",
    "    val n: Int = 1 // int 원시 타입\n",
    "    val x: Int? = 1 // Integer int 박싱한 타입\n",
    "\n",
    "\n",
    "    throw KotlinNullPointerException()\n",
    "\n",
    "}\n",
    "\n",
    "\n",
    "fun isLetterString(s: String) :  Boolean {\n",
    "    if (s.isEmpty()) return false\n",
    "    for (ch in s)\n",
    "        if (!ch.isLetter()) return false\n",
    "    return true\n",
    "}\n",
    "\n",
    "fun isLetterString2(s: String?): Boolean {\n",
    "    if (s == null) return false\n",
    "\n",
    "    if (s.isEmpty()) return false\n",
    "\n",
    "    for (ch in s) if (!ch.isLetter()) return false\n",
    "\n",
    "    return true\n",
    "}\n"
   ],
   "outputs": [],
   "execution_count": 2
  },
  {
   "metadata": {},
   "cell_type": "markdown",
   "source": [
    "### Non-Null Assertion(null 아님 단언 연산자) : !!\n",
    "- null 아님 단언 연산자.\n",
    "- 원래 타입의 null 이 될 수 없다는 표시\n",
    "- nullable 타입을 non-null 타입으로 강제 변환하는 연산자\n",
    "- null이 될 시 KotlinNullPointerException 발생 시킨다.\n",
    "- 자바의 기본 선언과 비슷하지만 명시적 표현이라는게 차이점\n",
    "- 사용해도 되는 경우\n",
    "    - 100% null 값이 안 들어오리라는 확신이 있을 때\n",
    "    - ? 연산자로 선언 후 값이 바로 초기화 된 경우"
   ]
  },
  {
   "metadata": {
    "ExecuteTime": {
     "end_time": "2025-06-29T10:46:58.567807Z",
     "start_time": "2025-06-29T10:46:58.476788Z"
    }
   },
   "cell_type": "code",
   "source": [
    "var name: String? = null // nullable\n",
    "\n",
    "fun initialize() {\n",
    "    name = \"John\" // 값 초기화\n",
    "}\n",
    "\n",
    "fun sayHello() {\n",
    "    println(name!!.uppercase()) // non-null\n",
    "}\n",
    "\n",
    "initialize()\n",
    "sayHello()\n",
    "\n"
   ],
   "outputs": [
    {
     "name": "stdout",
     "output_type": "stream",
     "text": [
      "JOHN\n"
     ]
    }
   ],
   "execution_count": 14
  },
  {
   "metadata": {},
   "cell_type": "markdown",
   "source": [
    "### Safe Call Operator (안전 호출 연산자) : ?.\n",
    "- 수신 객체(왼쪽 피연산자) 가 null이 아닌 경우 일반 함수처럼 동작한다.\n",
    "- 수신 객체가 null일 경우 null 반환한다.\n",
    "- '값이 없을 수도 있는 값'을 안전하게 처리한다는 점에서는 자바 Optional과 목적이 같다.\n",
    "    - 하지만 자바의 Optional은 객체를 생성해야한다. 자원 더 먹는다\n",
    "    - 자바는 Optional.ofNullable 로 명시적으로 래핑하지 않으면 nullable 한지 알 수 없다.\n",
    "    - 옵셔널 체이닝은 ?.보다 문법적으로 더 길다\n",
    "\n",
    "\n"
   ]
  },
  {
   "metadata": {
    "ExecuteTime": {
     "end_time": "2025-06-29T10:56:07.074333Z",
     "start_time": "2025-06-29T10:56:07.038218Z"
    }
   },
   "cell_type": "code",
   "source": [
    "\n",
    "fun readInt(): Int? {\n",
    "    val tmp = readLine()\n",
    "    return if (tmp != null) tmp.toInt()\n",
    "           else null\n",
    "}\n",
    "\n",
    "fun readInt() = readLine()?.toInt() // 위 코드와 동일한 코드다\n"
   ],
   "outputs": [],
   "execution_count": 20
  },
  {
   "metadata": {},
   "cell_type": "code",
   "outputs": [],
   "execution_count": null,
   "source": [
    "//val name: String? = null\n",
    "// val length = name.length  // 컴파일 에러! nullable에 직접 접근 불가\n",
    "\n",
    "val name: String? = null\n",
    "val length = name?.length   // null 반환, 예외 발생하지 않음"
   ]
  },
  {
   "metadata": {},
   "cell_type": "markdown",
   "source": [
    "## 널 복합 연산자(엘비스 연산자) : ?:\n",
    "- null을 대신할 디폴트 값을 지정할 수 있다.\n",
    "- 수신객체가 null이면 오른쪽 값을 적용한다.\n"
   ]
  },
  {
   "metadata": {
    "ExecuteTime": {
     "end_time": "2025-06-29T11:17:16.556035Z",
     "start_time": "2025-06-29T11:17:16.526741Z"
    }
   },
   "cell_type": "code",
   "source": [
    "fun sayHello(name: String?) {\n",
    "    println(\"Hello, ${name ?: \"there\"}!\")\n",
    "}\n",
    "\n",
    "sayHello(null)"
   ],
   "outputs": [
    {
     "name": "stdout",
     "output_type": "stream",
     "text": [
      "Hello, there!\n"
     ]
    }
   ],
   "execution_count": 23
  }
 ],
 "metadata": {
  "kernelspec": {
   "display_name": "Kotlin",
   "language": "kotlin",
   "name": "kotlin"
  },
  "language_info": {
   "name": "kotlin",
   "version": "1.9.23",
   "mimetype": "text/x-kotlin",
   "file_extension": ".kt",
   "pygments_lexer": "kotlin",
   "codemirror_mode": "text/x-kotlin",
   "nbconvert_exporter": ""
  }
 },
 "nbformat": 4,
 "nbformat_minor": 0
}
