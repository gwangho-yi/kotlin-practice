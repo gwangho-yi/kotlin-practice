{
 "cells": [
  {
   "metadata": {},
   "cell_type": "markdown",
   "source": [
    "## 널 가능성\n",
    "- 자바 : 자바는 모든 참조 타입 변수에 null 값을 대입 가능. -> 하지만 런타임 실행 시 NPE 발생.\n",
    "- 코틀린 :  널 값이 될 수 있는 참조 타입과 null 값이 될 수 없는 참조 타입을 확실히 구분해야 함.\n",
    "\n",
    "### nullable : ?\n",
    "- 코틀린에서는 optional 사용하지 않는다\n",
    "- String? 처럼 Type? 으로 nullable 표시한다.\n",
    "- Int?, Boolean? 원시 타입은 int, boolean이 아니라 Int, Boolean 레퍼 타입이 된다."
   ]
  },
  {
   "metadata": {
    "ExecuteTime": {
     "end_time": "2025-06-29T09:19:26.436211Z",
     "start_time": "2025-06-29T09:19:26.341639Z"
    }
   },
   "cell_type": "code",
   "source": [
    "fun main() {\n",
    "\n",
    "    println(isLetterString(\"abc\")) // 실행 가능\n",
    "//     println(isLetterString(null)) // 컴파일 오류 null 대입 불가\n",
    "\n",
    "    val n: Int = 1 // int 원시 타입\n",
    "    val x: Int? = 1 // Integer int 박싱한 타입\n",
    "\n",
    "\n",
    "    throw KotlinNullPointerException()\n",
    "\n",
    "}\n",
    "\n",
    "\n",
    "fun isLetterString(s: String) :  Boolean {\n",
    "    if (s.isEmpty()) return false\n",
    "    for (ch in s)\n",
    "        if (!ch.isLetter()) return false\n",
    "    return true\n",
    "}\n",
    "\n",
    "fun isLetterString2(s: String?): Boolean {\n",
    "    if (s == null) return false\n",
    "\n",
    "    if (s.isEmpty()) return false\n",
    "\n",
    "    for (ch in s) if (!ch.isLetter()) return false\n",
    "\n",
    "    return true\n",
    "}\n"
   ],
   "outputs": [],
   "execution_count": 2
  },
  {
   "metadata": {},
   "cell_type": "markdown",
   "source": [
    "### non-null assertion : !!\n",
    "  - null 아님 단언 연산자.\n",
    "  - 원래 타입의 널이 될 수 없다는 표시\n",
    "  - KotlinNullPointerException 발생 시킬 수 있다.\n",
    "  -"
   ]
  },
  {
   "metadata": {
    "ExecuteTime": {
     "end_time": "2025-06-29T09:19:29.487757Z",
     "start_time": "2025-06-29T09:19:29.416932Z"
    }
   },
   "cell_type": "code",
   "source": [
    "fun main() {\n",
    "    var name: String? = null\n",
    "\n",
    "    fun initialize() {\n",
    "        name = \"John\"\n",
    "    }\n",
    "\n",
    "    fun sayHello() {\n",
    "        println(name!!.uppercase())\n",
    "    }\n",
    "\n",
    "    initialize()\n",
    "    sayHello()\n",
    "}"
   ],
   "outputs": [],
   "execution_count": 3
  },
  {
   "metadata": {
    "ExecuteTime": {
     "end_time": "2025-06-29T09:18:26.452721Z",
     "start_time": "2025-06-29T09:18:26.450880Z"
    }
   },
   "cell_type": "code",
   "source": "",
   "outputs": [],
   "execution_count": null
  }
 ],
 "metadata": {
  "kernelspec": {
   "display_name": "Kotlin",
   "language": "kotlin",
   "name": "kotlin"
  },
  "language_info": {
   "name": "kotlin",
   "version": "1.9.23",
   "mimetype": "text/x-kotlin",
   "file_extension": ".kt",
   "pygments_lexer": "kotlin",
   "codemirror_mode": "text/x-kotlin",
   "nbconvert_exporter": ""
  }
 },
 "nbformat": 4,
 "nbformat_minor": 0
}
