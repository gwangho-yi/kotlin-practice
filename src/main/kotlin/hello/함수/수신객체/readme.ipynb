{
 "cells": [
  {
   "metadata": {},
   "cell_type": "markdown",
   "source": [
    "## 수신 객체 지정 함수 타입\n",
    "- 특정 객체를 수신자로 하는 람다를 정의할 수 있게 한다.\n",
    "- 형태는 `수신객체.(파라메터) -> 본문` 이렇게 작성하고, 수신객체는 this 로 접근할 수 있다.\n",
    "- 수신객체의 타입을 지정 해주면 함수 안에서 수신객체 확장을 사용할 수 있다.\n"
   ]
  },
  {
   "metadata": {
    "ExecuteTime": {
     "end_time": "2025-07-09T09:06:43.087214Z",
     "start_time": "2025-07-09T09:06:42.964598Z"
    }
   },
   "cell_type": "code",
   "source": [
    "fun example(\n",
    "    operation: String.(String) -> Unit // 수신 객체의 타입을 지정한다.\n",
    ") : Unit {\n",
    "    \"Hello\".operation(\"World\") // 수신 객체 : Hello, 파라메터 : World\n",
    "    operation(\"Hello\", \"World\") // 일반 함수처럼 호출 가능\n",
    "}\n",
    "\n",
    "example {\n",
    "    println(this + it)\n",
    "}\n",
    "\n",
    "fun double(\n",
    "    value: Int,\n",
    "    operation: Int.(Int) -> Int\n",
    ") : Int = value.operation(value)\n",
    "\n",
    "\n",
    "val rerult = double(2) { this * it }\n",
    "\n",
    "println(rerult)"
   ],
   "outputs": [
    {
     "name": "stdout",
     "output_type": "stream",
     "text": [
      "HelloWorld\n",
      "HelloWorld\n",
      "4\n"
     ]
    }
   ],
   "execution_count": 9
  },
  {
   "metadata": {},
   "cell_type": "markdown",
   "source": [
    "## 수신 객체가 있는 호출 가능 참조\n",
    "- 확장 함수나 멤버 함수를 `::` 연산자로 참조할 때 사용\n",
    "- **\"확장 함수 / 멤버 함수 참조\"** 라고 생각하자. 책에는 표현이 좀 어렵게 되어있네"
   ]
  },
  {
   "metadata": {
    "ExecuteTime": {
     "end_time": "2025-07-09T09:08:46.514464Z",
     "start_time": "2025-07-09T09:08:46.447776Z"
    }
   },
   "cell_type": "code",
   "source": [
    "fun aggregate(\n",
    "    numbers: IntArray,\n",
    "    operation: Int.(Int) -> Int\n",
    "): Int {\n",
    "    var result = 0\n",
    "    for (number in numbers) result = result.operation(number)\n",
    "    return result\n",
    "}\n",
    "\n",
    "fun Int.max(number: Int) = if ( this > number ) this else number\n",
    "\n",
    "val numbers = intArrayOf(1, 2, 3, 4, 5)\n",
    "println(aggregate(numbers, Int::max))\n"
   ],
   "outputs": [
    {
     "name": "stdout",
     "output_type": "stream",
     "text": [
      "5\n"
     ]
    }
   ],
   "execution_count": 13
  }
 ],
 "metadata": {
  "kernelspec": {
   "display_name": "Kotlin",
   "language": "kotlin",
   "name": "kotlin"
  },
  "language_info": {
   "name": "kotlin",
   "version": "2.2.20-dev-4982",
   "mimetype": "text/x-kotlin",
   "file_extension": ".kt",
   "pygments_lexer": "kotlin",
   "codemirror_mode": "text/x-kotlin",
   "nbconvert_exporter": ""
  }
 },
 "nbformat": 4,
 "nbformat_minor": 0
}
