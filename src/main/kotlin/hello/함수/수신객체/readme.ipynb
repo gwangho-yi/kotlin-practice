{
 "cells": [
  {
   "metadata": {},
   "cell_type": "markdown",
   "source": [
    "## 확장 람다(Extension Lambda) - 수신 객체 지정 함수 타입\n",
    "- 특정 객체를 수신자로 하는 람다를 정의할 수 있게 한다.\n",
    "- 형태는 `수신객체.(파라메터) -> 본문` 이렇게 작성하고, 수신객체는 this 로 접근할 수 있다.\n",
    "- 수신객체의 타입을 지정 해주면 함수 안에서 수신객체 확장을 사용할 수 있다.\n"
   ]
  },
  {
   "metadata": {
    "ExecuteTime": {
     "end_time": "2025-07-09T09:06:43.087214Z",
     "start_time": "2025-07-09T09:06:42.964598Z"
    }
   },
   "cell_type": "code",
   "source": [
    "fun example(\n",
    "    operation: String.(String) -> Unit // 수신 객체의 타입을 지정한다.\n",
    ") : Unit {\n",
    "    \"Hello\".operation(\"World\") // 수신 객체 : Hello, 파라메터 : World\n",
    "    operation(\"Hello\", \"World\") // 일반 함수처럼 호출 가능\n",
    "}\n",
    "\n",
    "example {\n",
    "    println(this + it)\n",
    "}\n",
    "\n",
    "fun double(\n",
    "    value: Int,\n",
    "    operation: Int.(Int) -> Int\n",
    ") : Int = value.operation(value)\n",
    "\n",
    "\n",
    "val rerult = double(2) { this * it }\n",
    "\n",
    "println(rerult)"
   ],
   "outputs": [
    {
     "name": "stdout",
     "output_type": "stream",
     "text": [
      "HelloWorld\n",
      "HelloWorld\n",
      "4\n"
     ]
    }
   ],
   "execution_count": 9
  },
  {
   "metadata": {},
   "cell_type": "markdown",
   "source": [
    "## 수신 객체가 있는 호출 가능 참조\n",
    "- 확장 함수나 멤버 함수를 `::` 연산자로 참조할 때 사용\n",
    "- **\"확장 함수 / 멤버 함수 참조\"** 라고 생각하자. 책에는 표현이 좀 어렵게 되어있네"
   ]
  },
  {
   "metadata": {
    "ExecuteTime": {
     "end_time": "2025-07-09T09:08:46.514464Z",
     "start_time": "2025-07-09T09:08:46.447776Z"
    }
   },
   "cell_type": "code",
   "source": [
    "fun aggregate(\n",
    "    numbers: IntArray,\n",
    "    operation: Int.(Int) -> Int\n",
    "): Int {\n",
    "    var result = 0\n",
    "    for (number in numbers) result = result.operation(number)\n",
    "    return result\n",
    "}\n",
    "\n",
    "fun Int.max(number: Int) = if ( this > number ) this else number\n",
    "\n",
    "val numbers = intArrayOf(1, 2, 3, 4, 5)\n",
    "println(aggregate(numbers, Int::max))\n"
   ],
   "outputs": [
    {
     "name": "stdout",
     "output_type": "stream",
     "text": [
      "5\n"
     ]
    }
   ],
   "execution_count": 13
  },
  {
   "metadata": {},
   "cell_type": "markdown",
   "source": [
    "## 영역 함수 ( Scope Functions )\n",
    "- 객체의 컨텍스트 안에서 코드 블록을 실행할 수 있게 해주는 함수들.\n",
    "- let, run, with, apply, also 등이 있다."
   ]
  },
  {
   "metadata": {},
   "cell_type": "markdown",
   "source": [
    "## run\n",
    "- 확장 람다를 받는 확장 함수이며, 람다의 결과를 돌려준다.\n",
    "- run 함수는 기본적으로 이렇게 생겼다. 모든 객체에 run을 붙일 수 있다.\n",
    "    - ```kotlin\n",
    "      inline fun <T, R> T.run(block: T.() -> R): R = block()\n",
    "      ```\n",
    "- 람다 내부에서 this로 수신객체 접근\n",
    "- 람다 마지막 표현식이 반환된다."
   ]
  },
  {
   "metadata": {
    "ExecuteTime": {
     "end_time": "2025-07-09T12:07:54.594805Z",
     "start_time": "2025-07-09T12:07:54.500588Z"
    }
   },
   "cell_type": "code",
   "source": [
    "var result: Int = \"Hello\".run {\n",
    "    println(this) // this = \"Hello\"\n",
    "    this.length // 반환\n",
    "}\n",
    "\n",
    "// 객체 초기화 , 설정\n",
    "data class Person (\n",
    "    var name: String = \"\",\n",
    "    var age: Int = 0\n",
    ")\n",
    "\n",
    "val person = Person().run {\n",
    "    name = \"이광호\"\n",
    "    age = 20\n",
    "    this // 반환\n",
    "}\n",
    "\n",
    "// 계산 후 결과 반환\n",
    "val message = StringBuilder().run {\n",
    "    append(\"Hello, \")\n",
    "    append(\"Kotlin\")\n",
    "    toString()\n",
    "}\n",
    "\n",
    "println(message)\n",
    "\n",
    "// null 세이프 같이 사용 가능\n",
    "val name: String? = null\n",
    "val greeting = name?.run {\n",
    "    \"Hello, $this\"\n",
    "} ?: \"Hello, Stranger\"\n",
    "\n",
    "println(greeting)\n",
    "\n",
    "// 일반 함수 형태로도 사용 가능\n",
    "val greeting2 = run {\n",
    "    \"Hello, Kotlin\"\n",
    "}"
   ],
   "outputs": [
    {
     "name": "stdout",
     "output_type": "stream",
     "text": [
      "Hello\n",
      "Hello, Kotlin\n",
      "null\n"
     ]
    }
   ],
   "execution_count": 27
  },
  {
   "metadata": {},
   "cell_type": "markdown",
   "source": ""
  }
 ],
 "metadata": {
  "kernelspec": {
   "display_name": "Kotlin",
   "language": "kotlin",
   "name": "kotlin"
  },
  "language_info": {
   "name": "kotlin",
   "version": "2.2.20-dev-4982",
   "mimetype": "text/x-kotlin",
   "file_extension": ".kt",
   "pygments_lexer": "kotlin",
   "codemirror_mode": "text/x-kotlin",
   "nbconvert_exporter": ""
  }
 },
 "nbformat": 4,
 "nbformat_minor": 0
}
