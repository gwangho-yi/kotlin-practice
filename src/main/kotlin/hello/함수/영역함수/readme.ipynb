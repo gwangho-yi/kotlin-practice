{
 "cells": [
  {
   "metadata": {},
   "cell_type": "markdown",
   "source": [
    "## 영역 함수 ( Scope Functions )\n",
    "- 객체의 컨텍스트 안에서 코드 블록을 실행할 수 있게 해주는 함수들.\n",
    "- let, run, with, apply, also 등이 있다."
   ]
  },
  {
   "metadata": {},
   "cell_type": "markdown",
   "source": [
    "## run\n",
    "- 확장 람다를 받는 확장 함수이며, 람다의 결과를 돌려준다.\n",
    "- run 함수는 기본적으로 이렇게 생겼다. 모든 객체에 run을 붙일 수 있다.\n",
    "    - ```kotlin\n",
    "      inline fun <T, R> T.run(block: T.() -> R): R = block()\n",
    "      ```\n",
    "- 람다 내부에서 this로 수신객체 접근\n",
    "- 람다 마지막 표현식이 반환된다."
   ]
  },
  {
   "metadata": {},
   "cell_type": "code",
   "outputs": [],
   "execution_count": null,
   "source": [
    "var result: Int = \"Hello\".run {\n",
    "    println(this) // this = \"Hello\"\n",
    "    this.length // 반환\n",
    "}\n",
    "\n",
    "// 객체 초기화 , 설정\n",
    "data class Person (\n",
    "    var name: String = \"\",\n",
    "    var age: Int = 0\n",
    ")\n",
    "\n",
    "val person: Person = Person().run {\n",
    "    name = \"이광호\"\n",
    "    age = 20\n",
    "    this // 반환\n",
    "}\n",
    "\n",
    "// 계산 후 결과 반환\n",
    "val message = StringBuilder().run {\n",
    "    append(\"Hello, \")\n",
    "    append(\"Kotlin\")\n",
    "    toString()\n",
    "}\n",
    "\n",
    "println(message)\n",
    "\n",
    "// null 세이프 같이 사용 가능\n",
    "val name: String? = null\n",
    "val greeting = name?.run {\n",
    "    \"Hello, $this\"\n",
    "} ?: \"Hello, Stranger\"\n",
    "\n",
    "println(greeting)\n",
    "\n",
    "// 일반 함수 형태로도 사용 가능\n",
    "val greeting2 = run {\n",
    "    \"Hello, Kotlin\"\n",
    "}"
   ]
  },
  {
   "metadata": {},
   "cell_type": "markdown",
   "source": [
    "## with\n",
    "- 매개변수와 확장 람다를 받는 일반 함수. 확장 함수 아니다.\n",
    "- with의 코드를 보면, receiver를 매개변수로 하나 받고, block 확장 람다도 받는다. run 과 동일하게 마지막 표현식을 반환한다.\n",
    "    - `inline fun <T, R> with(receiver: T, block: T.() -> R): R`\n",
    "- run과 다르게 null safe 하지는 않다.\n"
   ]
  },
  {
   "metadata": {
    "ExecuteTime": {
     "end_time": "2025-07-09T12:52:43.823673Z",
     "start_time": "2025-07-09T12:52:43.534782Z"
    }
   },
   "cell_type": "code",
   "source": [
    "// 일반 사용법\n",
    "val result = with(\"Hello\") {\n",
    "    println(this)\n",
    "    this.length\n",
    "}\n",
    "\n",
    "println(result)\n",
    "\n",
    "// 객체 프로퍼티 / 메서드 접근\n",
    "data class Person(\n",
    "    val name: String,\n",
    "    val age: Int,\n",
    ")\n",
    "\n",
    "val person = Person(\"광호\", 20)\n",
    "\n",
    "val result2 = with(person) {\n",
    "    println(name)\n",
    "    println(age)\n",
    "    age + 10\n",
    "}\n",
    "\n",
    "println(result2)\n",
    "\n",
    "val string: String? = \"hello\"\n",
    "\n",
    "// run과 달리 안전 호출 연산자는 사용 불가능하다.\n",
    "val result3 = with(string) {\n",
    "    length\n",
    "}\n",
    "\n",
    "val result4 = string?.run {\n",
    "    length\n",
    "}\n",
    "\n",
    "println(result3)"
   ],
   "outputs": [
    {
     "name": "stdout",
     "output_type": "stream",
     "text": [
      "Hello\n",
      "5\n",
      "광호\n",
      "20\n",
      "30\n",
      "5\n"
     ]
    }
   ],
   "execution_count": 4
  },
  {
   "metadata": {},
   "cell_type": "markdown",
   "source": [
    "## let\n",
    "- run과 비슷하게 생겼다.\n",
    "    `inline fun <T, R> T.let(block: (T) -> R): R`\n",
    "- run과 동일하지만 객체 지시자를 it을 사용한다.\n",
    "- run과 마찬가지로 null safe 연산자 사용 가능하다."
   ]
  },
  {
   "metadata": {
    "ExecuteTime": {
     "end_time": "2025-07-09T13:18:36.028974Z",
     "start_time": "2025-07-09T13:18:35.955748Z"
    }
   },
   "cell_type": "code",
   "source": [
    "val result = \"hello\".let {\n",
    "    println(it)\n",
    "    it.length\n",
    "}\n",
    "\n",
    "val result2 = \"hello\".let { r ->\n",
    "    println(r)\n",
    "    r.length\n",
    "}\n",
    "\n",
    "val string: String? = null\n",
    "\n",
    "val result3 = string?.let {\n",
    "    it.length\n",
    "} ?: \"null 임\"\n",
    "\n",
    "println(result3)"
   ],
   "outputs": [
    {
     "name": "stdout",
     "output_type": "stream",
     "text": [
      "hello\n",
      "hello\n",
      "null 임\n"
     ]
    }
   ],
   "execution_count": 9
  },
  {
   "metadata": {},
   "cell_type": "markdown",
   "source": [
    "## apply\n",
    "- 함수 내부에서 this로 접근\n",
    "- 수신 객체 자체를 반환, Unit을 반환한다.\n",
    "- `inline fun <T> T.apply(block: T.() -> Unit): T`\n",
    "- 주 사용처는 객체 초기화. 그리고 빌터 패턴 구현도 가능하다."
   ]
  },
  {
   "metadata": {
    "ExecuteTime": {
     "end_time": "2025-07-09T13:31:44.654652Z",
     "start_time": "2025-07-09T13:31:44.446769Z"
    }
   },
   "cell_type": "code",
   "source": [
    "val result = \"hello\".apply {\n",
    "    println(this)\n",
    "    length // length가 아니라 객체가 반환된다.\n",
    "}\n",
    "\n",
    "println(result)\n",
    "\n",
    "data class Person (\n",
    "    var name: String = \"\",\n",
    "    var age: Int = 0\n",
    ")\n",
    "\n",
    "val person = Person().apply {\n",
    "    name = \"이광호\"\n",
    "    age = 20\n",
    "}\n",
    "\n",
    "// 빌더 패턴\n",
    "class DatabaseConfig {\n",
    "    var host: String = \"localhost\"\n",
    "    var port: Int = 5432\n",
    "    var username: String = \"\"\n",
    "    var password: String = \"\"\n",
    "    var database: String = \"\"\n",
    "\n",
    "    fun build(): String {\n",
    "        return \"jdbc:postgresql://$host:$port/$database\"\n",
    "    }\n",
    "}\n",
    "\n",
    "val config = DatabaseConfig().apply {\n",
    "    host = \"db.example.com\"\n",
    "    port = 5432\n",
    "    username = \"admin\"\n",
    "    password = \"secret\"\n",
    "    database = \"myapp\"\n",
    "}.build()\n"
   ],
   "outputs": [
    {
     "name": "stdout",
     "output_type": "stream",
     "text": [
      "hello\n",
      "hello\n",
      "jdbc:postgresql://db.example.com:5432/myapp\n"
     ]
    }
   ],
   "execution_count": 11
  },
  {
   "metadata": {},
   "cell_type": "markdown",
   "source": [
    "## also\n",
    "- 함수 내부에서 it으로 접근\n",
    "- `inline fun <T> T.also(block: (T) -> Unit): T`\n",
    "- apply와 동일하게 수신 객체를 반환\n"
   ]
  },
  {
   "metadata": {
    "ExecuteTime": {
     "end_time": "2025-07-09T13:43:25.945814Z",
     "start_time": "2025-07-09T13:43:25.842165Z"
    }
   },
   "cell_type": "code",
   "source": [
    "val result = \"hello\".also {\n",
    "    println(it)\n",
    "    it.length\n",
    "}\n",
    "println(result)"
   ],
   "outputs": [
    {
     "name": "stdout",
     "output_type": "stream",
     "text": [
      "hello\n",
      "hello\n"
     ]
    }
   ],
   "execution_count": 12
  }
 ],
 "metadata": {
  "kernelspec": {
   "display_name": "Kotlin",
   "language": "kotlin",
   "name": "kotlin"
  },
  "language_info": {
   "name": "kotlin",
   "version": "2.2.20-dev-4982",
   "mimetype": "text/x-kotlin",
   "file_extension": ".kt",
   "pygments_lexer": "kotlin",
   "codemirror_mode": "text/x-kotlin",
   "nbconvert_exporter": ""
  }
 },
 "nbformat": 4,
 "nbformat_minor": 0
}
