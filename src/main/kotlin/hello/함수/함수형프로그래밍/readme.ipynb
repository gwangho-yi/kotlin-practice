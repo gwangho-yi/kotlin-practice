{
 "cells": [
  {
   "metadata": {},
   "cell_type": "markdown",
   "source": [
    "## 고차함수\n",
    "- 함수형 언어는 함수를 일급 시민(함수를 값처럼)으로 취급한다.\n",
    "- 함수를 값처럼 사용할 수 있기 때문에 함수의 인자로 함수를 전달하거나 함수를 값으로 반환할 수 있다.\n",
    "- 고차 함수는 함수를 매개 변수로 받거나 반환할 수 있다.\n",
    "- 장점으로는 함수를 추상 / 구현으로 나눌 수 있어서 상황에 따라 교체가 유연해지고, 재사용성이 높다."
   ]
  },
  {
   "metadata": {
    "ExecuteTime": {
     "end_time": "2025-07-05T07:24:35.829756Z",
     "start_time": "2025-07-05T07:24:35.723828Z"
    }
   },
   "cell_type": "code",
   "source": [
    "fun operate(\n",
    "    x: Int,\n",
    "    y: Int,\n",
    "    // 매개변수 : Int,Int 반환값 : Int 에 해당하는 함수를 매개로 받을 수 있다.\n",
    "    operation: (Int, Int) -> Int\n",
    "): Int {\n",
    "    // 매개로 받은 함수 실행\n",
    "    return operation(x, y)\n",
    "}\n",
    "\n",
    "// operation에 대한 상세한 구현\n",
    "fun add(a: Int, b: Int): Int = a + b\n",
    "fun minus(a: Int, b: Int): Int = a - b\n",
    "fun multiply(a: Int, b: Int): Int = a * b\n",
    "fun divide(a: Int, b: Int): Int = a / b\n",
    "\n",
    "val result = operate(1, 2, ::add)\n",
    "val result2 = operate(1, 2, ::minus)\n",
    "val result3 = operate(1, 2, ::multiply)\n",
    "val result4 = operate(1, 2, ::divide)\n",
    "\n",
    "// 람다를 넘기는 것도 가능\n",
    "val result5 = operate(1, 2, { a, b -> a / b })\n",
    "// 함수 마지막 매개가 람다일 때, 아래처럼 사용가능\n",
    "var result6 = operate(1, 2) { a, b -> a / b }\n",
    "\n",
    "println(result)\n",
    "println(result2)\n",
    "println(result3)\n",
    "println(result4)\n",
    "println(result5)"
   ],
   "outputs": [
    {
     "name": "stdout",
     "output_type": "stream",
     "text": [
      "3\n",
      "-1\n",
      "2\n",
      "0\n",
      "0\n"
     ]
    }
   ],
   "execution_count": 8
  },
  {
   "metadata": {},
   "cell_type": "markdown",
   "source": [
    "## 함수 타입\n",
    "- 함수의 모양을 표현하는 타입 ex) (Int, Int) -> Int\n",
    "- 쉽게 생각하면 함수가 변수를 몇개 받는지, 변수는 타입이 뭔지, return은 뭘 반환하는지 표현 해주는 것."
   ]
  },
  {
   "metadata": {
    "ExecuteTime": {
     "end_time": "2025-07-05T07:27:28.204575Z",
     "start_time": "2025-07-05T07:27:28.159096Z"
    }
   },
   "cell_type": "code",
   "source": [
    "// add 함수는 (Int, Int) -> Int 함수 타입을 가진다.\n",
    "// Int 두 개 받아서 Int 만 념겨주면 되는 말이다.\n",
    "val add: (Int, Int) -> Int = { a, b -> a + b }\n",
    "\n",
    "// 매개와 반환이 없는 것도 표현 가능하다.\n",
    "val void: () -> Unit = {}\n",
    "\n",
    "val test: (a: Int) -> Int? = { if (it > 0) it else null }\n"
   ],
   "outputs": [
    {
     "ename": "org.jetbrains.kotlinx.jupyter.exceptions.ReplCompilerException",
     "evalue": "at Cell In[9], line 8, column 36: Unresolved reference: a\nat Cell In[9], line 8, column 43: Unresolved reference: a",
     "output_type": "error",
     "traceback": [
      "org.jetbrains.kotlinx.jupyter.exceptions.ReplCompilerException: at Cell In[9], line 8, column 36: Unresolved reference: a",
      "at Cell In[9], line 8, column 43: Unresolved reference: a",
      "\tat org.jetbrains.kotlinx.jupyter.repl.impl.JupyterCompilerImpl.compileSync(JupyterCompilerImpl.kt:152)",
      "\tat org.jetbrains.kotlinx.jupyter.repl.impl.InternalEvaluatorImpl.eval(InternalEvaluatorImpl.kt:127)",
      "\tat org.jetbrains.kotlinx.jupyter.repl.impl.CellExecutorImpl.execute_L4Nmkdk$lambda$9$lambda$1(CellExecutorImpl.kt:80)",
      "\tat org.jetbrains.kotlinx.jupyter.repl.impl.ReplForJupyterImpl.withHost(ReplForJupyterImpl.kt:794)",
      "\tat org.jetbrains.kotlinx.jupyter.repl.impl.CellExecutorImpl.execute-L4Nmkdk(CellExecutorImpl.kt:78)",
      "\tat org.jetbrains.kotlinx.jupyter.repl.execution.CellExecutor.execute-L4Nmkdk$default(CellExecutor.kt:14)",
      "\tat org.jetbrains.kotlinx.jupyter.repl.impl.ReplForJupyterImpl.evaluateUserCode-wNURfNM(ReplForJupyterImpl.kt:616)",
      "\tat org.jetbrains.kotlinx.jupyter.repl.impl.ReplForJupyterImpl.evalExImpl(ReplForJupyterImpl.kt:474)",
      "\tat org.jetbrains.kotlinx.jupyter.repl.impl.ReplForJupyterImpl.evalEx$lambda$20(ReplForJupyterImpl.kt:467)",
      "\tat org.jetbrains.kotlinx.jupyter.repl.impl.ReplForJupyterImpl.withEvalContext(ReplForJupyterImpl.kt:447)",
      "\tat org.jetbrains.kotlinx.jupyter.repl.impl.ReplForJupyterImpl.evalEx(ReplForJupyterImpl.kt:466)",
      "\tat org.jetbrains.kotlinx.jupyter.messaging.IdeCompatibleMessageRequestProcessor.processExecuteRequest$lambda$7$lambda$6$lambda$5(IdeCompatibleMessageRequestProcessor.kt:160)",
      "\tat org.jetbrains.kotlinx.jupyter.streams.BlockingSubstitutionEngine.withDataSubstitution(SubstitutionEngine.kt:70)",
      "\tat org.jetbrains.kotlinx.jupyter.streams.StreamSubstitutionManager.withSubstitutedStreams(StreamSubstitutionManager.kt:118)",
      "\tat org.jetbrains.kotlinx.jupyter.messaging.IdeCompatibleMessageRequestProcessor.withForkedIn(IdeCompatibleMessageRequestProcessor.kt:354)",
      "\tat org.jetbrains.kotlinx.jupyter.messaging.IdeCompatibleMessageRequestProcessor.evalWithIO$lambda$16$lambda$15(IdeCompatibleMessageRequestProcessor.kt:368)",
      "\tat org.jetbrains.kotlinx.jupyter.streams.BlockingSubstitutionEngine.withDataSubstitution(SubstitutionEngine.kt:70)",
      "\tat org.jetbrains.kotlinx.jupyter.streams.StreamSubstitutionManager.withSubstitutedStreams(StreamSubstitutionManager.kt:118)",
      "\tat org.jetbrains.kotlinx.jupyter.messaging.IdeCompatibleMessageRequestProcessor.withForkedErr(IdeCompatibleMessageRequestProcessor.kt:343)",
      "\tat org.jetbrains.kotlinx.jupyter.messaging.IdeCompatibleMessageRequestProcessor.evalWithIO$lambda$16(IdeCompatibleMessageRequestProcessor.kt:367)",
      "\tat org.jetbrains.kotlinx.jupyter.streams.BlockingSubstitutionEngine.withDataSubstitution(SubstitutionEngine.kt:70)",
      "\tat org.jetbrains.kotlinx.jupyter.streams.StreamSubstitutionManager.withSubstitutedStreams(StreamSubstitutionManager.kt:118)",
      "\tat org.jetbrains.kotlinx.jupyter.messaging.IdeCompatibleMessageRequestProcessor.withForkedOut(IdeCompatibleMessageRequestProcessor.kt:335)",
      "\tat org.jetbrains.kotlinx.jupyter.messaging.IdeCompatibleMessageRequestProcessor.evalWithIO(IdeCompatibleMessageRequestProcessor.kt:366)",
      "\tat org.jetbrains.kotlinx.jupyter.messaging.IdeCompatibleMessageRequestProcessor.processExecuteRequest$lambda$7$lambda$6(IdeCompatibleMessageRequestProcessor.kt:159)",
      "\tat org.jetbrains.kotlinx.jupyter.execution.JupyterExecutorImpl$Task.execute(JupyterExecutorImpl.kt:41)",
      "\tat org.jetbrains.kotlinx.jupyter.execution.JupyterExecutorImpl.executorThread$lambda$0(JupyterExecutorImpl.kt:83)",
      "\tat kotlin.concurrent.ThreadsKt$thread$thread$1.run(Thread.kt:30)",
      ""
     ]
    }
   ],
   "execution_count": 9
  }
 ],
 "metadata": {
  "kernelspec": {
   "display_name": "Kotlin",
   "language": "kotlin",
   "name": "kotlin"
  },
  "language_info": {
   "name": "kotlin",
   "version": "2.2.20-dev-4982",
   "mimetype": "text/x-kotlin",
   "file_extension": ".kt",
   "pygments_lexer": "kotlin",
   "codemirror_mode": "text/x-kotlin",
   "nbconvert_exporter": ""
  }
 },
 "nbformat": 4,
 "nbformat_minor": 0
}
