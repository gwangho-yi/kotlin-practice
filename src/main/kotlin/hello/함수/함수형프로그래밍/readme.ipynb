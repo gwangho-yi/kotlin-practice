{
 "cells": [
  {
   "metadata": {},
   "cell_type": "markdown",
   "source": [
    "## 고차함수\n",
    "- 함수형 언어는 함수를 일급 시민(함수를 값처럼)으로 취급한다.\n",
    "- 함수를 값처럼 사용할 수 있기 때문에 함수의 인자로 함수를 전달하거나 함수를 값으로 반환할 수 있다.\n",
    "- 고차 함수는 함수를 매개 변수로 받거나 반환하는 함수를 얘기한다.\n",
    "- 장점으로는 함수를 추상 / 구현으로 나눌 수 있어서 상황에 따라 교체가 유연해지고, 재사용성이 높다."
   ]
  },
  {
   "metadata": {
    "ExecuteTime": {
     "end_time": "2025-07-05T07:24:35.829756Z",
     "start_time": "2025-07-05T07:24:35.723828Z"
    }
   },
   "cell_type": "code",
   "source": [
    "fun operate(\n",
    "    x: Int,\n",
    "    y: Int,\n",
    "    // 매개변수 : Int,Int 반환값 : Int 에 해당하는 함수를 매개로 받을 수 있다.\n",
    "    operation: (Int, Int) -> Int\n",
    "): Int {\n",
    "    // 매개로 받은 함수 실행\n",
    "    return operation(x, y)\n",
    "}\n",
    "\n",
    "// operation에 대한 상세한 구현\n",
    "fun add(a: Int, b: Int): Int = a + b\n",
    "fun minus(a: Int, b: Int): Int = a - b\n",
    "fun multiply(a: Int, b: Int): Int = a * b\n",
    "fun divide(a: Int, b: Int): Int = a / b\n",
    "\n",
    "val result = operate(1, 2, ::add)\n",
    "val result2 = operate(1, 2, ::minus)\n",
    "val result3 = operate(1, 2, ::multiply)\n",
    "val result4 = operate(1, 2, ::divide)\n",
    "\n",
    "// 람다를 넘기는 것도 가능\n",
    "val result5 = operate(1, 2, { a, b -> a / b })\n",
    "// 함수 마지막 매개가 람다일 때, 아래처럼 사용가능\n",
    "var result6 = operate(1, 2) { a, b -> a / b }\n",
    "\n",
    "println(result)\n",
    "println(result2)\n",
    "println(result3)\n",
    "println(result4)\n",
    "println(result5)"
   ],
   "outputs": [
    {
     "name": "stdout",
     "output_type": "stream",
     "text": [
      "3\n",
      "-1\n",
      "2\n",
      "0\n",
      "0\n"
     ]
    }
   ],
   "execution_count": 8
  },
  {
   "metadata": {},
   "cell_type": "markdown",
   "source": [
    "## 함수 타입\n",
    "- 함수의 모양을 표현하는 타입 ex) (Int, Int) -> Int\n",
    "- 쉽게 생각하면 함수가 변수를 몇개 받는지, 변수는 타입이 뭔지, return은 뭘 반환하는지 표현 해주는 것."
   ]
  },
  {
   "metadata": {
    "ExecuteTime": {
     "end_time": "2025-07-07T09:35:07.359915Z",
     "start_time": "2025-07-07T09:35:07.177326Z"
    }
   },
   "cell_type": "code",
   "outputs": [],
   "execution_count": 1,
   "source": [
    "// add 함수는 (Int, Int) -> Int 함수 타입을 가진다.\n",
    "// Int 두 개 받아서 Int 만 념겨주면 되는 말이다.\n",
    "val add: (Int, Int) -> Int = { a, b -> a + b }\n",
    "\n",
    "// 매개와 반환이 없는 것도 표현 가능하다.\n",
    "val void: () -> Unit = {}\n",
    "\n",
    "val test: (Int) -> Int? = { a -> if (a > 0) a else null }"
   ]
  },
  {
   "metadata": {},
   "cell_type": "code",
   "outputs": [],
   "execution_count": null,
   "source": ""
  },
  {
   "metadata": {},
   "cell_type": "markdown",
   "source": [
    "## 람다\n",
    "- 함수형 타입의 구체적인 값을 만드는 방법은 이름을 지정하지 않는 **람다식**을 사용 하는 것이다.\n",
    "- 아래 코드에서 보이는 { a, b -> a + b } 이 식이 **람다식**이다.\n",
    "- 함수 정의와 달리 반환 타입 지정 X, 람다의 본문에서 반환타입 자동 추론된다. 반환 타입을 명시하지 못 한다."
   ]
  },
  {
   "metadata": {
    "ExecuteTime": {
     "end_time": "2025-07-07T10:17:14.505325Z",
     "start_time": "2025-07-07T10:17:14.443142Z"
    }
   },
   "cell_type": "code",
   "source": [
    "fun aggregate(numbers: IntArray, operation: (Int, Int) -> Int): Int {\n",
    "    var result = numbers.firstOrNull()?: 0\n",
    "\n",
    "    for (i in numbers) {\n",
    "        println(result)\n",
    "        result = operation(result, i)\n",
    "    }\n",
    "\n",
    "    return result\n",
    "}\n",
    "\n",
    "fun su(numbers: IntArray) = aggregate(numbers, { a, b -> a + b })\n",
    "fun mi(numbers: IntArray) = aggregate(numbers, { a, b -> a - b })\n",
    "\n",
    "val result7 = su(intArrayOf(1, 2, 3))\n",
    "\n",
    "println(result7)"
   ],
   "outputs": [
    {
     "name": "stdout",
     "output_type": "stream",
     "text": [
      "1\n",
      "2\n",
      "4\n",
      "7\n"
     ]
    }
   ],
   "execution_count": 13
  },
  {
   "metadata": {},
   "cell_type": "markdown",
   "source": [
    "## 익명 함수\n",
    "- fun 키워드 다음에 파라메터가 오며 이름이 없다.\n",
    "- 타입 추론 가능하다면 타입을 지정하지 않아도 된다.\n",
    "- 익명 함수는 식이기 때문에 함수의 인자로 넘기거나 변수에 대입하는 일반 값처럼 쓸 수 있다.\n",
    "- 식 본문, 블럭 본문 두가지 형태로 사용 가능하다."
   ]
  },
  {
   "metadata": {
    "ExecuteTime": {
     "end_time": "2025-07-07T12:22:40.843540Z",
     "start_time": "2025-07-07T12:22:40.740574Z"
    }
   },
   "cell_type": "code",
   "source": [
    "fun sum(numbers: IntArray) = aggregate(numbers, fun(result, operation) = result + operation) // 식 본문\n",
    "fun minus(numbers: IntArray) = aggregate(numbers, fun(result, operation): Int { return result - operation }) // 블록 본문"
   ],
   "outputs": [],
   "execution_count": 15
  },
  {
   "metadata": {},
   "cell_type": "markdown",
   "source": [
    "## 호출 가능 참조\n",
    "- 함수나 프로퍼티를 객체처럼 참조할 수 있다. `::` 연산자 사용"
   ]
  },
  {
   "metadata": {
    "ExecuteTime": {
     "end_time": "2025-07-07T12:40:05.787153Z",
     "start_time": "2025-07-07T12:40:05.639059Z"
    }
   },
   "cell_type": "code",
   "source": [
    "fun double(x: Int): Int = x * 2\n",
    "fun square(x: Int): Int = x * x\n",
    "\n",
    "/**\n",
    "* 함수 참조\n",
    "* */\n",
    "val action: (Int) -> Int = ::double // 함수 참조\n",
    "val number = listOf(1, 2, 3)\n",
    "\n",
    "val result = action(10)\n",
    "val result2 = number.map(::square) // 함수 참조\n",
    "\n",
    "\n",
    "/**\n",
    "* 객체 참조\n",
    "* */\n",
    "class Person(val firstName: String) {\n",
    "    fun fullName(message: String) = \"$firstName $message\"\n",
    "}\n",
    "val createPerson = ::Person // 객체 참조\n",
    "val person = createPerson(\"gwangho\", \"yi\")\n",
    "\n",
    "val fullname = Person::fullName // 클래스 메서드 참조\n",
    "\n",
    "println(fullname(person, \"hello\"))\n",
    "\n",
    "\n",
    "/**\n",
    " * 생성자 참조\n",
    " * */\n",
    "data class Person2(val name: String, val age: Int)\n",
    "val personConstruct = ::Person2\n",
    "val person2 = personConstruct(\"gwangho\", 20)\n",
    "\n",
    "\n",
    "/**\n",
    " * 프로퍼티 참조\n",
    " * */\n",
    "class Person3(val firstName: String, val lastName: String) {\n",
    "    val fullName: String\n",
    "        get() = \"$firstName $lastName\"\n",
    "}\n",
    "val person3 = Person3(\"gwangho\", \"yi\")\n",
    "val firstNameRef = Person3::firstName\n",
    "val lastNameRef = Person3::lastName\n",
    "val fullNameRef = Person3::fullName\n",
    "\n",
    "val firstName = firstNameRef.get(person3)\n",
    "val lastName = lastNameRef.get(person3)\n",
    "val fullName = fullNameRef.get(person3)\n",
    "\n"
   ],
   "outputs": [
    {
     "name": "stdout",
     "output_type": "stream",
     "text": [
      "gwangho hello\n"
     ]
    }
   ],
   "execution_count": 19
  },
  {
   "metadata": {},
   "cell_type": "markdown",
   "source": [
    "## 인라인, 노인라인, 크로스 인라인 함수\n",
    "\n",
    "- 인라인\n",
    "    - 람다는 내부적으로 객체를 생성하고, 코드가 반복 실행되면 성능저하로 이어진다.\n",
    "    - 인라인 함수를 사용하면 컴파일 타임에 코드를 직접 삽입하기 때문에 객체를 생성하지 않는다.\n",
    "    - 즉, 람다 표현으로 작성 하면서도 성능 방어를 할 수 있다.\n",
    "    - 쉽게 말해 함수의 매개 람다를 직접 실행 코드로 박아버리는 것이다.\n",
    "    <br>\n",
    "- 노인라인\n",
    "    - 인라인 함수에서 특정 람다를 인라인하지 않는 것.\n",
    "    - 람다를 노인라인으로 지정할 때는\n",
    "        - 람다를 변수에 저장할 때\n",
    "        - 다른 함수에 람다를 전달할 때\n",
    "    - 인라인한 람다는 별도의 객체가 아니라 식이 되기 때문에\n",
    "        - 인라인이 아닌 일반 함수에 전달 불가능\n",
    "        - 변수에 저장 불가능"
   ]
  },
  {
   "metadata": {
    "ExecuteTime": {
     "end_time": "2025-07-08T02:38:12.541422Z",
     "start_time": "2025-07-08T02:38:12.410726Z"
    }
   },
   "cell_type": "code",
   "source": [
    "/**\n",
    "* 인라인 함수\n",
    "* */\n",
    "inline fun repeat3Times(action: () -> Unit) {\n",
    "    action()\n",
    "    action()\n",
    "    action()\n",
    "}\n",
    "\n",
    "repeat3Times {\n",
    "    println(\"Hello\")\n",
    "}\n",
    "\n",
    "// 위에 코드는 실제로 아래처럼 변환된다. action이 직접 삽입됨\n",
    "// println(\"Hello\")  // 첫 번째 action() 호출\n",
    "// println(\"Hello\")  // 두 번째 action() 호출\n",
    "// println(\"Hello\")  // 세 번째 action() 호출\n",
    "\n",
    "\n",
    "fun repeat3Times2(action: Function0<Unit>) {\n",
    "    action.invoke()\n",
    "    action.invoke()\n",
    "    action.invoke()\n",
    "}\n",
    "\n",
    "// inline 안 붙이고 생성하면 실제로는 아래처럼 객체가 생성된다. 반복문 3번 호출 시 객체 가 3개 생성된다.\n",
    "val lambdaObject = object : Function0<Unit> {\n",
    "    override fun invoke() {\n",
    "        println(\"Hello\")\n",
    "    }\n",
    "}\n",
    "\n",
    "repeat3Times2(lambdaObject)\n",
    "\n",
    "\n",
    "/**\n",
    " * 노인라인 함수\n",
    " * */\n",
    "var lastAction: () -> Unit = {}\n",
    "\n",
    "inline fun runAndMemorize(\n",
    "    action: () -> Unit,\n",
    ") {\n",
    "    action()\n",
    "    lastAction = action // 인라인 람다는 식이기 때문에 변수에 저장 X\n",
    "}\n",
    "\n",
    "fun noInline(action: () -> Unit) {\n",
    "    action.invoke()\n",
    "}\n",
    "\n",
    "inline fun passLanda(action: () -> Unit) {\n",
    "    noInline(action) // 인라인 함수가 아닌 일반 함수에는 인라인 함수를 넘길 수 없다\n",
    "}\n",
    "\n",
    "inline fun noPassLanda(\n",
    "    noinline action1: () -> Unit,\n",
    "    action2: () -> Unit\n",
    ") {\n",
    "    noInline { action1 }\n",
    "    action2.invoke()\n",
    "}\n"
   ],
   "outputs": [
    {
     "name": "stdout",
     "output_type": "stream",
     "text": [
      "Hello\n",
      "Hello\n",
      "Hello\n",
      "Hello\n",
      "Hello\n",
      "Hello\n"
     ]
    }
   ],
   "execution_count": 3
  }
 ],
 "metadata": {
  "kernelspec": {
   "display_name": "Kotlin",
   "language": "kotlin",
   "name": "kotlin"
  },
  "language_info": {
   "name": "kotlin",
   "version": "2.2.20-dev-4982",
   "mimetype": "text/x-kotlin",
   "file_extension": ".kt",
   "pygments_lexer": "kotlin",
   "codemirror_mode": "text/x-kotlin",
   "nbconvert_exporter": ""
  }
 },
 "nbformat": 4,
 "nbformat_minor": 0
}
