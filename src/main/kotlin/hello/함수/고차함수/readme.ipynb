{
 "cells": [
  {
   "metadata": {},
   "cell_type": "markdown",
   "source": [
    "## 고차함수\n",
    "- 함수형 언어는 함수를 일급 시민(함수를 값처럼)으로 취급한다.\n",
    "- 함수를 값처럼 사용할 수 있기 때문에 함수의 인자로 함수를 전달하거나 함수를 값으로 반환할 수 있다.\n",
    "- 장점으로는 함수를 추상 / 구현으로 나눌 수 있어서 상황에 따라 교체가 유연해지고, 재사용성이 높다."
   ]
  },
  {
   "metadata": {
    "ExecuteTime": {
     "end_time": "2025-07-05T06:55:30.388089Z",
     "start_time": "2025-07-05T06:55:30.266176Z"
    }
   },
   "cell_type": "code",
   "source": [
    "fun operate(\n",
    "    x: Int,\n",
    "    y: Int,\n",
    "    // 매개변수 : Int,Int 반환값 : Int 에 해당하는 함수를 매개로 받을 수 있다.\n",
    "    operation: (Int, Int) -> Int\n",
    "): Int {\n",
    "    // 매개로 받은 함수 실행\n",
    "    return operation(x, y)\n",
    "}\n",
    "\n",
    "// operation에 대한 상세한 구현\n",
    "fun add(a: Int, b: Int): Int = a + b\n",
    "fun minus(a: Int, b: Int): Int = a - b\n",
    "fun multiply(a: Int, b: Int): Int = a * b\n",
    "fun divide(a: Int, b: Int): Int = a / b\n",
    "\n",
    "val result = operate(1, 2, ::add)\n",
    "val result2 = operate(1, 2, ::minus)\n",
    "val result3 = operate(1, 2, ::multiply)\n",
    "val result4 = operate(1, 2, ::divide)\n",
    "\n",
    "// 람다를 넘기는 것도 가능\n",
    "val result5 = operate(1, 2, { a, b -> a / b })\n",
    "// 함수 마지막 매개가 람다일 때, 아래처럼 사용가능\n",
    "var result6 = operate(1, 2) { a, b -> a / b }\n",
    "\n",
    "println(result)\n",
    "println(result2)\n",
    "println(result3)\n",
    "println(result4)\n",
    "println(result5)"
   ],
   "outputs": [
    {
     "name": "stdout",
     "output_type": "stream",
     "text": [
      "3\n",
      "-1\n",
      "2\n",
      "0\n",
      "0\n"
     ]
    }
   ],
   "execution_count": 6
  },
  {
   "metadata": {},
   "cell_type": "code",
   "outputs": [],
   "execution_count": null,
   "source": ""
  }
 ],
 "metadata": {
  "kernelspec": {
   "display_name": "Kotlin",
   "language": "kotlin",
   "name": "kotlin"
  },
  "language_info": {
   "name": "kotlin",
   "version": "2.2.20-dev-4982",
   "mimetype": "text/x-kotlin",
   "file_extension": ".kt",
   "pygments_lexer": "kotlin",
   "codemirror_mode": "text/x-kotlin",
   "nbconvert_exporter": ""
  }
 },
 "nbformat": 4,
 "nbformat_minor": 0
}
