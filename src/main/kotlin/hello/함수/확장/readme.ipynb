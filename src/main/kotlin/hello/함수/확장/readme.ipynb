{
 "cells": [
  {
   "metadata": {},
   "cell_type": "markdown",
   "source": [
    "## 확장함수\n",
    "- 어떤 클래스의 멤버인 것처럼 호출 할 수 있는 함수\n",
    "- 자바에서 매번 만들던 유틸리티 클래스를 이제 안 써도 된다.\n",
    "- 타입에 체이닝해서 함수를 사용하는 것도 가능하다.\n",
    "- 만들어진 확장 함수는 ide에서 자동완성 지원해준다."
   ]
  },
  {
   "metadata": {
    "ExecuteTime": {
     "end_time": "2025-07-08T13:31:49.224262Z",
     "start_time": "2025-07-08T13:31:49.156120Z"
    }
   },
   "cell_type": "code",
   "source": [
    "\n",
    "fun String.inValidEmail(): Boolean {\n",
    "    return this.contains(\"@\") && this.contains(\".\") // this 는 수신자 객체\n",
    "}\n",
    "\n",
    "val email = \"dlrhkdgh21@gmail.com\"\n",
    "email.inValidEmail()\n"
   ],
   "outputs": [
    {
     "name": "stdout",
     "output_type": "stream",
     "text": [
      "0\n"
     ]
    }
   ],
   "execution_count": 6
  },
  {
   "metadata": {},
   "cell_type": "markdown",
   "source": [
    "## 확장 프로퍼티\n",
    "- 기존 클래스에 새로운 프로퍼티를 추가할 수 있게 해주는 기능"
   ]
  },
  {
   "metadata": {
    "ExecuteTime": {
     "end_time": "2025-07-09T07:29:33.091609Z",
     "start_time": "2025-07-09T07:29:33.014649Z"
    }
   },
   "cell_type": "code",
   "source": [
    "val String.새로운프로퍼티: String\n",
    "    get() = this + \" 새로운 프로퍼티입니다\"\n",
    "\n",
    "var String.새로운프로퍼티2: String\n",
    "    get() = \"새로운 프로퍼티2\"\n",
    "    set(value) {\n",
    "        println(value)\n",
    "    }\n",
    "\n",
    "println(\"안녕\".새로운프로퍼티)"
   ],
   "outputs": [
    {
     "name": "stdout",
     "output_type": "stream",
     "text": [
      "안녕 새로운 프로퍼티입니다\n"
     ]
    }
   ],
   "execution_count": 8
  },
  {
   "metadata": {},
   "cell_type": "markdown",
   "source": [
    "## 클래스 멤버인 확장 함수\n",
    "- 클래스 내부에서 정의되는 확장 함수나 확장 프로퍼티.\n",
    "- 일반적으로 사용하는 `String.함수` 같은 확장 함수와 달리 클래스 멤버로 정의되고 두 개의 수신 객체를 가진다.\n",
    "    - 확장 수신자     ex) String\n",
    "    - 디스패치 수신자  ex) 멤버 확장 함수를 감싸고 있는 외부 클래스"
   ]
  },
  {
   "metadata": {
    "ExecuteTime": {
     "end_time": "2025-07-10T07:04:37.102174Z",
     "start_time": "2025-07-10T07:04:36.745581Z"
    }
   },
   "cell_type": "code",
   "source": [
    "class OuterClass {\n",
    "    // 멤버 확장 함수\n",
    "    fun String.extensionFunction(): Unit {\n",
    "\n",
    "        this              // String 인스턴스 (확장 수신자)\n",
    "\n",
    "        this@OuterClass  // Outer 인스턴스 (디스패치 수신자)\n",
    "\n",
    "    }\n",
    "\n",
    "    fun String.addSuffix(): String {\n",
    "        return this + \" (완료)\"\n",
    "    }\n",
    "\n",
    "}\n",
    "\n",
    "val outer = OuterClass()\n",
    "outer.run {\n",
    "    \"\".extensionFunction()\n",
    "    \"\".addSuffix()\n",
    "}\n",
    "\n",
    "\n",
    "class MessageProcessor {\n",
    "    private val prefix = \"처리 됨\"\n",
    "    private val timestamp = System.currentTimeMillis()\n",
    "\n",
    "\n",
    "    private fun String.processMessge(): String {\n",
    "        val message = this.trim().uppercase() // 확장 수신자\n",
    "\n",
    "        val prefixMessage = this@MessageProcessor.prefix + message\n",
    "        val timeInfo = \"(시간: ${this@MessageProcessor.timestamp})\"\n",
    "\n",
    "        return prefixMessage + timeInfo\n",
    "    }\n",
    "\n",
    "    fun handleMessage(input: String): String {\n",
    "        return input.processMessge()\n",
    "    }\n",
    "}\n",
    "\n",
    "val process = MessageProcessor()\n",
    "val result =  process.handleMessage(\"  hello world!  \")\n",
    "println(result)\n"
   ],
   "outputs": [
    {
     "name": "stdout",
     "output_type": "stream",
     "text": [
      "처리 됨HELLO WORLD!(시간: 1752131077066)\n"
     ]
    }
   ],
   "execution_count": 1
  }
 ],
 "metadata": {
  "kernelspec": {
   "display_name": "Kotlin",
   "language": "kotlin",
   "name": "kotlin"
  },
  "language_info": {
   "name": "kotlin",
   "version": "2.2.20-dev-4982",
   "mimetype": "text/x-kotlin",
   "file_extension": ".kt",
   "pygments_lexer": "kotlin",
   "codemirror_mode": "text/x-kotlin",
   "nbconvert_exporter": ""
  }
 },
 "nbformat": 4,
 "nbformat_minor": 0
}
