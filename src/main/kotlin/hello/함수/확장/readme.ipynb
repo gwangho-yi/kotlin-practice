{
 "cells": [
  {
   "metadata": {},
   "cell_type": "markdown",
   "source": [
    "## 확장함수\n",
    "- 어떤 클래스의 멤버인 것처럼 호출 할 수 있는 함수\n",
    "- 자바에서 매번 만들던 유틸리티 클래스를 이제 안 써도 된다.\n",
    "- 타입에 체이닝해서 함수를 사용하는 것도 가능하다.\n",
    "- 만들어진 확장 함수는 ide에서 자동완성 지원해준다."
   ]
  },
  {
   "metadata": {
    "ExecuteTime": {
     "end_time": "2025-07-08T13:31:49.224262Z",
     "start_time": "2025-07-08T13:31:49.156120Z"
    }
   },
   "cell_type": "code",
   "source": [
    "\n",
    "fun String.inValidEmail(): Boolean {\n",
    "    return this.contains(\"@\") && this.contains(\".\") // this 는 수신자 객체\n",
    "}\n",
    "\n",
    "val email = \"dlrhkdgh21@gmail.com\"\n",
    "email.inValidEmail()\n"
   ],
   "outputs": [
    {
     "name": "stdout",
     "output_type": "stream",
     "text": [
      "0\n"
     ]
    }
   ],
   "execution_count": 6
  }
 ],
 "metadata": {
  "kernelspec": {
   "display_name": "Kotlin",
   "language": "kotlin",
   "name": "kotlin"
  },
  "language_info": {
   "name": "kotlin",
   "version": "2.2.20-dev-4982",
   "mimetype": "text/x-kotlin",
   "file_extension": ".kt",
   "pygments_lexer": "kotlin",
   "codemirror_mode": "text/x-kotlin",
   "nbconvert_exporter": ""
  }
 },
 "nbformat": 4,
 "nbformat_minor": 0
}
