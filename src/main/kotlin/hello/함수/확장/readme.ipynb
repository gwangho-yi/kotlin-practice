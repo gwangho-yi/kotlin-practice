{
 "cells": [
  {
   "metadata": {},
   "cell_type": "markdown",
   "source": [
    "## 확장함수\n",
    "- 어떤 클래스의 멤버인 것처럼 호출 할 수 있는 함수\n",
    "- 자바에서 매번 만들던 유틸리티 클래스를 이제 안 써도 된다.\n",
    "- 타입에 체이닝해서 함수를 사용하는 것도 가능하다.\n",
    "- 만들어진 확장 함수는 ide에서 자동완성 지원해준다."
   ]
  },
  {
   "metadata": {
    "ExecuteTime": {
     "end_time": "2025-07-08T13:31:49.224262Z",
     "start_time": "2025-07-08T13:31:49.156120Z"
    }
   },
   "cell_type": "code",
   "source": [
    "\n",
    "fun String.inValidEmail(): Boolean {\n",
    "    return this.contains(\"@\") && this.contains(\".\") // this 는 수신자 객체\n",
    "}\n",
    "\n",
    "val email = \"dlrhkdgh21@gmail.com\"\n",
    "email.inValidEmail()\n"
   ],
   "outputs": [
    {
     "name": "stdout",
     "output_type": "stream",
     "text": [
      "0\n"
     ]
    }
   ],
   "execution_count": 6
  },
  {
   "metadata": {},
   "cell_type": "markdown",
   "source": [
    "## 확장 프로퍼티\n",
    "- 기존 클래스에 새로운 프로퍼티를 추가할 수 있게 해주는 기능"
   ]
  },
  {
   "metadata": {
    "ExecuteTime": {
     "end_time": "2025-07-09T07:17:28.650536Z",
     "start_time": "2025-07-09T07:17:28.591466Z"
    }
   },
   "cell_type": "code",
   "source": [
    "val String.새로운프로퍼티: String\n",
    "    get() = this + \" 새로운 프로퍼티입니다\"\n",
    "\n",
    "var String.새로운프로퍼티2: String\n",
    "    get() = \"새로운 프로퍼티2\"\n",
    "    set(value) {\n",
    "        println(value)\n",
    "    }\n",
    "\n",
    "println(\"안녕\".새로운프로퍼티)"
   ],
   "outputs": [
    {
     "name": "stdout",
     "output_type": "stream",
     "text": [
      "안녕 새로운 프로퍼티입니다\n"
     ]
    }
   ],
   "execution_count": 7
  }
 ],
 "metadata": {
  "kernelspec": {
   "display_name": "Kotlin",
   "language": "kotlin",
   "name": "kotlin"
  },
  "language_info": {
   "name": "kotlin",
   "version": "2.2.20-dev-4982",
   "mimetype": "text/x-kotlin",
   "file_extension": ".kt",
   "pygments_lexer": "kotlin",
   "codemirror_mode": "text/x-kotlin",
   "nbconvert_exporter": ""
  }
 },
 "nbformat": 4,
 "nbformat_minor": 0
}
