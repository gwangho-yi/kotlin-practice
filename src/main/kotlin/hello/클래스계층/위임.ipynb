{
 "cells": [
  {
   "metadata": {},
   "cell_type": "markdown",
   "source": [
    "### 위임\n",
    "- Java 같은 객체 지향 언어는 상속보다는 합성을 강조한다. 단일 상속만 허용하고, 합성은 인터페이스로 해결하는 방식으로 사용해 왔다.\n",
    "- 인터페이스에 구현해야 할 기능들이 많다면 모두 override 받아서 구현해야한다.\n",
    "- 위임을 사용하면 **인터페이스의 기능 중 내가 필요한 기능만 커스텀하고 원래 존재하던 다른 기능은 기존의 구현체를 사용한다.**\n",
    "- 실제 코드 동작 방식은 컴파일 타임에 모든 메서드를 자동으로 생성해준다."
   ]
  },
  {
   "metadata": {
    "collapsed": true
   },
   "cell_type": "code",
   "outputs": [],
   "execution_count": null,
   "source": [
    "class MyList: MutableList<String> by ArrayList() {\n",
    "\n",
    "    // removeAt 만 구현하고 나머지 MutableList의 기능들은 원래 구현체를 사용한다\n",
    "    override fun removeAt(index: Int): String {\n",
    "        return \"element $index\"\n",
    "    }\n",
    "\n",
    "}\n",
    "\n",
    "// ArrayList의 모든 기능을 위임받되, 일부만 오버라이드\n",
    "class LoggingList<T>(\n",
    "    private val innerList: MutableList<T> = mutableListOf()\n",
    ") : MutableList<T> by innerList {\n",
    "\n",
    "    // 특정 메서드만 로깅 기능 추가\n",
    "    override fun add(element: T): Boolean {\n",
    "        println(\"요소 추가: $element\")\n",
    "        return innerList.add(element)\n",
    "    }\n",
    "\n",
    "    override fun remove(element: T): Boolean {\n",
    "        println(\"요소 제거: $element\")\n",
    "        return innerList.remove(element)\n",
    "    }\n",
    "\n",
    "    // 나머지 수십 개의 List 메서드들은 모두 innerList에 위임\n",
    "    // 실제 구현 될 때는 MutableList의 모든 기능들이 LoggingList에 추가된다.\n",
    "}"
   ]
  }
 ],
 "metadata": {
  "kernelspec": {
   "display_name": "Kotlin",
   "language": "kotlin",
   "name": "kotlin"
  },
  "language_info": {
   "name": "kotlin",
   "version": "2.2.20-dev-4982",
   "mimetype": "text/x-kotlin",
   "file_extension": ".kt",
   "pygments_lexer": "kotlin",
   "codemirror_mode": "text/x-kotlin",
   "nbconvert_exporter": ""
  }
 },
 "nbformat": 4,
 "nbformat_minor": 0
}
