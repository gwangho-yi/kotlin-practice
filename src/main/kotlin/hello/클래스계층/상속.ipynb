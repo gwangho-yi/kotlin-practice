{
 "cells": [
  {
   "metadata": {},
   "cell_type": "markdown",
   "source": [
    "## 하위 선언\n",
    "- 클래스 상속은 주생성자 뒤에 `:상위클래스`\n",
    "1. 코틀린은 상속에 대해 닫혀 있다.\n",
    "    - **Kotlin의 모든 클래스는 기본적으로 final** → 상속하려면 `open` 키워드 필요\n",
    "    - 상속 시 클래스를 주의 깊게 설계하고 하위 클래스들이 지켜야 하는 내용을 명시적으로 문서화 하는 것을 권장한다.\n",
    "    - 이는 자바에서 상위 클래스 변경 시 동작이 하위에서 제대로 작동하지 않는 이른바, 깨지기 쉬운 기반 클래스 문제를 야기하기 때문에 생긴 철학이다.\n",
    "2. 오버라이드 시에는 반드시 `override` 명시\n",
    "    - 코틀린에서는 멤버 역시도 기본 final이다.\n",
    "    - 동일 한 이름의 멤버를 구현한다면 반드시 상위에서 open으로 열어주고, 하위에서는 override 해준다.\n",
    "    - 자바에서는 override가 강제되지 않지만, 실수로 하위에서 상위의 동작을 수정하는 경우 발생, 깨지기 쉬운 기반 클래스 문제 야기"
   ]
  },
  {
   "metadata": {},
   "cell_type": "code",
   "outputs": [],
   "execution_count": null,
   "source": [
    "// Kotlin의 모든 클래스는 기본적으로 final\n",
    "// 상속하려면 open 키워드 필요\n",
    "open class Vehicle() {\n",
    "    open fun drive(): Unit {} // open 에러 없으면 컴파일 에러\n",
    "\n",
    "    open fun finalDrive(): Unit {}\n",
    "}\n",
    "\n",
    "class Car(): Vehicle() {\n",
    "    override fun drive(): Unit{} // override 없으면 컴파일 에러\n",
    "\n",
    "    final override fun finalDrive() {} // final 선언 시 더 이상 상속 불가능\n",
    "}\n",
    "\n",
    "\n",
    "\n",
    "// open 없으면 컴파일 에러\n",
    "// class Vehicle() {} // final 클래스\n",
    "// class Car(): Vehicle() {} // 에러: This type is final, so it cannot be inherited from"
   ]
  },
  {
   "metadata": {},
   "cell_type": "markdown",
   "source": [
    "### 하위 확장\n",
    "- 클래스 멤버는 런타임에 인스턴스의 타입에 따라 호출이 결정된다.\n",
    "- 확장은 항상 정적으로 호출 대상이 결정된다."
   ]
  },
  {
   "metadata": {
    "ExecuteTime": {
     "end_time": "2025-07-15T01:11:15.820712Z",
     "start_time": "2025-07-15T01:11:15.738228Z"
    }
   },
   "cell_type": "code",
   "source": [
    "open class Vehicle() {\n",
    "    open fun start() {\n",
    "        println(\"움직입니다\")\n",
    "    }\n",
    "}\n",
    "\n",
    "fun Vehicle.stop() {\n",
    "    println(\"움직임을 멈춥니다\")\n",
    "}\n",
    "\n",
    "class Car : Vehicle() {\n",
    "    override fun start() {\n",
    "        println(\"달립니다\")\n",
    "    }\n",
    "}\n",
    "\n",
    "fun Car.stop() {\n",
    "    println(\"달리기를 멈춥니다\")\n",
    "}\n",
    "\n",
    "val vehicle: Vehicle = Car()\n",
    "println(vehicle.start()) // Car의 start 호출\n",
    "println(vehicle.stop())  // Vahicle의 stop 호출"
   ],
   "outputs": [
    {
     "name": "stdout",
     "output_type": "stream",
     "text": [
      "달립니다\n",
      "kotlin.Unit\n",
      "움직임을 멈춥니다\n",
      "kotlin.Unit\n"
     ]
    }
   ],
   "execution_count": 3
  },
  {
   "metadata": {},
   "cell_type": "markdown",
   "source": [
    "### data 클래스\n",
    "- 항상 final이며 open 선언 불가능\n",
    "- 일반 클래스 상속 가능\n",
    "- 같은 data class 끼리는 상속이 불가능하다. 이유는 아래 메서드들 때문이다.\n",
    "- 컴파일러가 자동으로 생성하는 메서드들:\n",
    "    - equals()\n",
    "    - hashCode()\n",
    "    - toString()\n",
    "    - copy()\n",
    "    - componentN() (구조 분해용)"
   ]
  },
  {
   "metadata": {},
   "cell_type": "code",
   "outputs": [],
   "execution_count": null,
   "source": [
    "// 만약 이것이 가능하다면...\n",
    "open data class Person(val name: String, val age: Int)\n",
    "\n",
    "data class Employee(name: String, age: Int, val salary: Int) : Person(name, age)\n",
    "\n",
    "val person: Person = Employee(\"John\", 30, 50000)\n",
    "val employee: Employee = Employee(\"John\", 30, 50000)\n",
    "\n",
    "// 문제: equals() 결과가 예상과 다를 수 있음\n",
    "println(person == employee) // false? true? 혼란스러움"
   ]
  }
 ],
 "metadata": {
  "kernelspec": {
   "display_name": "Kotlin",
   "language": "kotlin",
   "name": "kotlin"
  },
  "language_info": {
   "name": "kotlin",
   "version": "2.2.20-dev-4982",
   "mimetype": "text/x-kotlin",
   "file_extension": ".kt",
   "pygments_lexer": "kotlin",
   "codemirror_mode": "text/x-kotlin",
   "nbconvert_exporter": ""
  }
 },
 "nbformat": 4,
 "nbformat_minor": 0
}
