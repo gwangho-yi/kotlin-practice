{
 "cells": [
  {
   "metadata": {},
   "cell_type": "markdown",
   "source": [
    "## 추상 클래스와 추상 멤버\n",
    "- 기본 클래스는 final 이지만 추상 클래스는 open이 기본이다.\n",
    "- 추상 멤버와 일반 멤버 선언 가능하다."
   ]
  },
  {
   "metadata": {},
   "cell_type": "code",
   "outputs": [],
   "execution_count": null,
   "source": [
    "abstract class Character {\n",
    "\n",
    "    abstract val name: String\n",
    "\n",
    "    abstract fun attack(target: Character)\n",
    "\n",
    "    open val maxHealth: Int = 100 // 오버라이드 하려면 open 필요\n",
    "\n",
    "    final fun call() { // 일반 메서드 (final이므로 자식에서 오버라이드 불가)\n",
    "        println(name)\n",
    "    }\n",
    "}\n",
    "\n",
    "class Human(\n",
    "    override var name: String,\n",
    "    override val maxHealth: Int\n",
    "): Character() {\n",
    "    override fun attack(target: Character) {\n",
    "        TODO(\"Not yet implemented\")\n",
    "    }\n",
    "}"
   ]
  },
  {
   "metadata": {},
   "cell_type": "code",
   "outputs": [],
   "execution_count": null,
   "source": ""
  }
 ],
 "metadata": {
  "kernelspec": {
   "display_name": "Kotlin",
   "language": "kotlin",
   "name": "kotlin"
  },
  "language_info": {
   "name": "kotlin",
   "version": "2.2.20-dev-4982",
   "mimetype": "text/x-kotlin",
   "file_extension": ".kt",
   "pygments_lexer": "kotlin",
   "codemirror_mode": "text/x-kotlin",
   "nbconvert_exporter": ""
  }
 },
 "nbformat": 4,
 "nbformat_minor": 0
}
