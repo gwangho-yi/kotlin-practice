{
 "cells": [
  {
   "metadata": {},
   "cell_type": "markdown",
   "source": [
    "## 추상 클래스와 추상 멤버\n",
    "- 기본 클래스는 final 이지만 추상 클래스는 open이 기본이다.\n",
    "- 추상 멤버와 일반 멤버 선언 가능하다."
   ]
  },
  {
   "metadata": {},
   "cell_type": "code",
   "outputs": [],
   "execution_count": null,
   "source": [
    "abstract class Character {\n",
    "\n",
    "    abstract val name: String\n",
    "\n",
    "    abstract fun attack(target: Character)\n",
    "\n",
    "    open val maxHealth: Int = 100 // 오버라이드 하려면 open 필요\n",
    "\n",
    "    final fun call() { // 일반 메서드 (final이므로 자식에서 오버라이드 불가)\n",
    "        println(name)\n",
    "    }\n",
    "}\n",
    "\n",
    "class Human(\n",
    "    override var name: String,\n",
    "    override val maxHealth: Int\n",
    "): Character() {\n",
    "    override fun attack(target: Character) {\n",
    "        TODO(\"Not yet implemented\")\n",
    "    }\n",
    "}\n"
   ]
  },
  {
   "metadata": {},
   "cell_type": "markdown",
   "source": [
    "## 인터페이스\n",
    "- 자바는 불가능 했지만 프로퍼티를 선언 가능하다.\n",
    "- 메서드 자체도 default 선언 없이 바로 선언 가능.\n",
    "- 함수형 인터페이스 선언 시  `fun interface` 로 선언 가능"
   ]
  },
  {
   "metadata": {},
   "cell_type": "code",
   "outputs": [],
   "execution_count": null,
   "source": [
    "interface MyInterface {\n",
    "    val property: String\n",
    "\n",
    "    fun defaultMethod() {\n",
    "        println(property)\n",
    "    }\n",
    "}\n",
    "\n",
    "// 함수형 인터페이스\n",
    "fun interface funciInterface {\n",
    "    fun invoke(x: Int): String\n",
    "}\n"
   ]
  },
  {
   "metadata": {},
   "cell_type": "markdown",
   "source": [
    "### 함수형 인터페이스\n",
    "- 추상 메서드를 하나만 가지는 메서드\n",
    "- 람다식으로 간단히 구현 가능"
   ]
  },
  {
   "metadata": {},
   "cell_type": "code",
   "outputs": [],
   "execution_count": null,
   "source": [
    "fun interface StringProcessor {\n",
    "    fun process(x: String)\n",
    "}\n",
    "\n",
    "val processor = StringProcessor { x -> x.uppercase() }\n",
    "\n",
    "val processor2 = StringProcessor { it.uppercase() }\n",
    "\n"
   ]
  }
 ],
 "metadata": {
  "kernelspec": {
   "display_name": "Kotlin",
   "language": "kotlin",
   "name": "kotlin"
  },
  "language_info": {
   "name": "kotlin",
   "version": "2.2.20-dev-4982",
   "mimetype": "text/x-kotlin",
   "file_extension": ".kt",
   "pygments_lexer": "kotlin",
   "codemirror_mode": "text/x-kotlin",
   "nbconvert_exporter": ""
  }
 },
 "nbformat": 4,
 "nbformat_minor": 0
}
