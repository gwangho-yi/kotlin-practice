{
 "cells": [
  {
   "metadata": {},
   "cell_type": "markdown",
   "source": [
    "## 추상 클래스와 추상 멤버\n",
    "- 기본 클래스는 final 이지만 추상 클래스는 open이 기본이다.\n",
    "- 추상 멤버와 일반 멤버 선언 가능하다."
   ]
  },
  {
   "metadata": {},
   "cell_type": "code",
   "outputs": [],
   "execution_count": null,
   "source": [
    "abstract class Character {\n",
    "\n",
    "    abstract val name: String\n",
    "\n",
    "    abstract fun attack(target: Character)\n",
    "\n",
    "    open val maxHealth: Int = 100 // 오버라이드 하려면 open 필요\n",
    "\n",
    "    final fun call() { // 일반 메서드 (final이므로 자식에서 오버라이드 불가)\n",
    "        println(name)\n",
    "    }\n",
    "}\n",
    "\n",
    "class Human(\n",
    "    override var name: String,\n",
    "    override val maxHealth: Int\n",
    "): Character() {\n",
    "    override fun attack(target: Character) {\n",
    "        TODO(\"Not yet implemented\")\n",
    "    }\n",
    "}\n"
   ]
  },
  {
   "metadata": {},
   "cell_type": "markdown",
   "source": [
    "## 인터페이스\n",
    "- 자바는 불가능 했지만 프로퍼티를 선언 가능하다.\n",
    "- 메서드 자체도 default 선언 없이 바로 선언 가능.\n",
    "- 함수형 인터페이스 선언 시  `fun interface` 로 선언 가능"
   ]
  },
  {
   "metadata": {},
   "cell_type": "code",
   "outputs": [],
   "execution_count": null,
   "source": [
    "interface MyInterface {\n",
    "    val property: String\n",
    "\n",
    "    fun defaultMethod() {\n",
    "        println(property)\n",
    "    }\n",
    "}\n",
    "\n",
    "// 함수형 인터페이스\n",
    "fun interface funciInterface {\n",
    "    fun invoke(x: Int): String\n",
    "}\n",
    "\n",
    "\n"
   ]
  },
  {
   "metadata": {},
   "cell_type": "markdown",
   "source": [
    "### 다이아몬드 상속\n",
    "- 인터페이스에서는 생성자, 상태를 사용할 수 없다.\n",
    "- 다중 상속 문제 때문에 그런데 정확히 표현하자면 상태를 표현하는 것은 가능하지만, 값을 할당하는 행위는 불가능하다\n",
    "- 값을 할당하는 것은 구현체의 몫이다. 메모리에 동일한 변수가 저장되어 있다면 상속받은 입장에서는 어떤 메모리를 바라봐야하는걸까?\n",
    "- 이런 메모리 접근 패턴 예측이 힘들어지기 때문에 애초에 자바에서부터 인터페이스는 생성자와 상태를 가질 수 없다."
   ]
  },
  {
   "metadata": {},
   "cell_type": "code",
   "outputs": [],
   "execution_count": null,
   "source": [
    "// 다이아몬드 상속 문제\n",
    "interface Vehicle {\n",
    "    val currentSpeed: Int\n",
    "}\n",
    "\n",
    "interface Car : Vehicle {}\n",
    "\n",
    "interface Truck : Vehicle {}\n",
    "\n",
    "class Apphibia : Car, Truck {\n",
    "    override var currentSpeed: Int = 0\n",
    "        get() = 0\n",
    "}\n",
    "\n"
   ]
  },
  {
   "metadata": {},
   "cell_type": "markdown",
   "source": [
    "### 함수형 인터페이스\n",
    "- 추상 메서드를 하나만 가지는 메서드\n",
    "- 람다식으로 간단히 구현 가능"
   ]
  },
  {
   "metadata": {},
   "cell_type": "code",
   "outputs": [],
   "execution_count": null,
   "source": [
    "fun interface StringProcessor {\n",
    "    fun process(x: String)\n",
    "}\n",
    "\n",
    "val processor = StringProcessor { x -> x.uppercase() }\n",
    "\n",
    "val processor2 = StringProcessor { it.uppercase() }\n",
    "\n"
   ]
  },
  {
   "metadata": {},
   "cell_type": "markdown",
   "source": [
    "## 봉인 클래스\n",
    "- 제한된 상속 계층을 만들 때 사용한다.\n",
    "- when 사용 시, enum과 비슷하게 else 표현 없이 모든 경우를 커버할 수 있다.\n",
    "- when 표현식과 궁합이 좋다."
   ]
  },
  {
   "metadata": {},
   "cell_type": "code",
   "outputs": [],
   "execution_count": null,
   "source": [
    "sealed class Result {\n",
    "\n",
    "    class Success(val value: Any) : Result() {\n",
    "        fun showResult() = println(\"Success: $value\")\n",
    "    }\n",
    "    class Error(val message: String) : Result() {\n",
    "        fun exception() { throw Exception(message) }\n",
    "    }\n",
    "\n",
    "\n",
    "}\n",
    "fun runComputation(a: Int, b: Int): Result {\n",
    "    if (a+b == 10) return Result.Success(a+b)\n",
    "    return Result.Error(\"a+b is not 10\")\n",
    "}\n",
    "\n",
    "val message = when(val result = runComputation(10, 10)) {\n",
    "    is Result.Success -> result.showResult()\n",
    "    is Result.Error -> result.exception()\n",
    "}"
   ]
  }
 ],
 "metadata": {
  "kernelspec": {
   "display_name": "Kotlin",
   "language": "kotlin",
   "name": "kotlin"
  },
  "language_info": {
   "name": "kotlin",
   "version": "2.2.20-dev-4982",
   "mimetype": "text/x-kotlin",
   "file_extension": ".kt",
   "pygments_lexer": "kotlin",
   "codemirror_mode": "text/x-kotlin",
   "nbconvert_exporter": ""
  }
 },
 "nbformat": 4,
 "nbformat_minor": 0
}
