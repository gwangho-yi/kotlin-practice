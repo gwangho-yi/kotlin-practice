{
 "cells": [
  {
   "metadata": {},
   "cell_type": "markdown",
   "source": [
    "## 컬렉션 계층 구조\n",
    "- 컬렉션은 불변, 가변 두 가지로 나뉜다."
   ]
  },
  {
   "metadata": {
    "ExecuteTime": {
     "end_time": "2025-07-10T12:31:57.672463Z",
     "start_time": "2025-07-10T12:31:57.197304Z"
    }
   },
   "cell_type": "code",
   "source": [
    "/**\n",
    "* List\n",
    "* */\n",
    "\n",
    "// 불변 컬렉션 (읽기 전용)\n",
    "val readOnlyList: List<String> = listOf(\"a\", \"b\", \"c\")\n",
    "val readOnlySet: Set<String> = setOf(\"a\", \"b\", \"c\")\n",
    "val readOnlyMap: Map<String, Int> = mapOf(\"a\" to 1, \"b\" to 2)\n",
    "\n",
    "// 가변 컬렉션 (읽기/쓰기 가능)\n",
    "val mutableList: MutableList<String> = mutableListOf(\"a\", \"b\", \"c\")\n",
    "val mutableSet: MutableSet<String> = mutableSetOf(\"a\", \"b\", \"c\")\n",
    "val mutableMap: MutableMap<String, Int> = mutableMapOf(\"a\" to 1, \"b\" to 2)\n",
    "\n",
    "/**\n",
    " * Set\n",
    " * */\n",
    "// 불변\n",
    "val colors: Set<String> = setOf(\"red\", \"green\", \"blue\", \"red\") // 중복 제거됨\n",
    "println(colors.size)        // 3\n",
    "println(colors.contains(\"red\")) // true\n",
    "// 가변\n",
    "val mutableColors: MutableSet<String> = mutableSetOf(\"red\", \"green\")\n",
    "mutableColors.add(\"blue\")      // [red, green, blue]\n",
    "mutableColors.add(\"red\")       // [red, green, blue] (중복 무시)\n",
    "mutableColors.remove(\"green\")  // [red, blue]\n",
    "\n",
    "\n",
    "\n",
    "/**\n",
    " * Map\n",
    " * */\n",
    "// 불변\n",
    "val userAges: Map<String, Int> = mapOf(\n",
    "    \"Alice\" to 25,\n",
    "    \"Bob\" to 30,\n",
    "    \"Charlie\" to 35\n",
    ")\n",
    "\n",
    "println(userAges[\"Alice\"])     // 25\n",
    "println(userAges.get(\"Alice\")) // 25\n",
    "println(userAges.getValue(\"Alice\")) // 25 (키가 없으면 예외)\n",
    "println(userAges.keys)         // [Alice, Bob, Charlie]\n",
    "println(userAges.values)       // [25, 30, 35]\n",
    "println(userAges.entries)      // 키-값 쌍들\n",
    "\n",
    "\n",
    "// 가변\n",
    "val mutableUserAges: MutableMap<String, Int> = mutableMapOf(\"Alice\" to 25, \"Bob\" to 30)\n",
    "mutableUserAges[\"Charlie\"] = 35        // 추가\n",
    "mutableUserAges.put(\"David\", 40)       // 추가\n",
    "mutableUserAges[\"Alice\"] = 26          // 수정\n",
    "mutableUserAges.remove(\"Bob\")          // 제거\n",
    "\n",
    "// 특정 구현체 사용\n",
    "val hashMap = hashMapOf(\"a\" to 1, \"b\" to 2)     // HashMap\n",
    "val linkedMap = linkedMapOf(\"a\" to 1, \"b\" to 2) // LinkedHashMap\n",
    "val sortedMap = sortedMapOf(\"b\" to 2, \"a\" to 1) // TreeMap\n",
    "\n",
    "\n"
   ],
   "outputs": [
    {
     "name": "stdout",
     "output_type": "stream",
     "text": [
      "3\n",
      "true\n",
      "25\n",
      "25\n",
      "25\n",
      "[Alice, Bob, Charlie]\n",
      "[25, 30, 35]\n",
      "[Alice=25, Bob=30, Charlie=35]\n"
     ]
    }
   ],
   "execution_count": 2
  }
 ],
 "metadata": {
  "kernelspec": {
   "display_name": "Kotlin",
   "language": "kotlin",
   "name": "kotlin"
  },
  "language_info": {
   "name": "kotlin",
   "version": "2.2.20-dev-4982",
   "mimetype": "text/x-kotlin",
   "file_extension": ".kt",
   "pygments_lexer": "kotlin",
   "codemirror_mode": "text/x-kotlin",
   "nbconvert_exporter": ""
  }
 },
 "nbformat": 4,
 "nbformat_minor": 0
}
